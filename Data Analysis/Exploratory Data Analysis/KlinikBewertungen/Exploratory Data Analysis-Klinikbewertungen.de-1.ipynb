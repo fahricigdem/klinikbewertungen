{
 "cells": [
  {
   "cell_type": "markdown",
   "metadata": {},
   "source": [
    "<h1 style=\"color:red;font-size:46px;text-align:center;\">Klinikbewertungen.de<h1/>"
   ]
  },
  {
   "cell_type": "markdown",
   "metadata": {},
   "source": [
    "<h1 align=center><font size = 6, color = blue>Exploratory Data Analysis-1</font></h1>"
   ]
  },
  {
   "cell_type": "code",
   "execution_count": 3,
   "metadata": {},
   "outputs": [],
   "source": [
    "import pandas as pd\n",
    "import numpy as np\n",
    "import matplotlib.pyplot as plt\n",
    "import seaborn as sns\n",
    "%matplotlib inline "
   ]
  },
  {
   "cell_type": "code",
   "execution_count": 4,
   "metadata": {
    "scrolled": false
   },
   "outputs": [
    {
     "data": {
      "text/html": [
       "<div>\n",
       "<style scoped>\n",
       "    .dataframe tbody tr th:only-of-type {\n",
       "        vertical-align: middle;\n",
       "    }\n",
       "\n",
       "    .dataframe tbody tr th {\n",
       "        vertical-align: top;\n",
       "    }\n",
       "\n",
       "    .dataframe thead th {\n",
       "        text-align: right;\n",
       "    }\n",
       "</style>\n",
       "<table border=\"1\" class=\"dataframe\">\n",
       "  <thead>\n",
       "    <tr style=\"text-align: right;\">\n",
       "      <th></th>\n",
       "      <th>Name der Klinik</th>\n",
       "      <th>Titel</th>\n",
       "      <th>Datum</th>\n",
       "      <th>Fachbereich</th>\n",
       "      <th>Erfahrungsbericht</th>\n",
       "      <th>Gesamtzufriedenheit</th>\n",
       "      <th>Qualität der Beratung</th>\n",
       "      <th>Mediz. Behandlung</th>\n",
       "      <th>Verwaltung und Abläufe</th>\n",
       "      <th>Ausstattung und Gestaltung</th>\n",
       "      <th>Polaritiy</th>\n",
       "      <th>Subjectivity</th>\n",
       "      <th>year</th>\n",
       "      <th>month</th>\n",
       "      <th>day</th>\n",
       "      <th>Gesamt</th>\n",
       "      <th>Qualität</th>\n",
       "      <th>Behandlung</th>\n",
       "      <th>Verwaltung</th>\n",
       "      <th>Ausstattung</th>\n",
       "    </tr>\n",
       "  </thead>\n",
       "  <tbody>\n",
       "    <tr>\n",
       "      <th>0</th>\n",
       "      <td>Herzogin Elisabeth Hospital</td>\n",
       "      <td>Superklinik</td>\n",
       "      <td>2021-06-07</td>\n",
       "      <td>Orthopädie</td>\n",
       "      <td>Bestens durchorganisiert.gutes Personal geht i...</td>\n",
       "      <td>sehr zufrieden</td>\n",
       "      <td>sehr zufrieden</td>\n",
       "      <td>sehr zufrieden</td>\n",
       "      <td>sehr zufrieden</td>\n",
       "      <td>sehr zufrieden</td>\n",
       "      <td>0.000000</td>\n",
       "      <td>0.0</td>\n",
       "      <td>2021</td>\n",
       "      <td>6</td>\n",
       "      <td>7</td>\n",
       "      <td>100.0</td>\n",
       "      <td>100.0</td>\n",
       "      <td>100.0</td>\n",
       "      <td>100.0</td>\n",
       "      <td>100.0</td>\n",
       "    </tr>\n",
       "    <tr>\n",
       "      <th>1</th>\n",
       "      <td>Herzogin Elisabeth Hospital</td>\n",
       "      <td>Kranken- oder Hotelzimmer?</td>\n",
       "      <td>2021-05-25</td>\n",
       "      <td>Unfallchirurgie</td>\n",
       "      <td>Bin nach einem Autounfall im HEH gewesen und h...</td>\n",
       "      <td>sehr zufrieden</td>\n",
       "      <td>sehr zufrieden</td>\n",
       "      <td>sehr zufrieden</td>\n",
       "      <td>sehr zufrieden</td>\n",
       "      <td>zufrieden</td>\n",
       "      <td>0.340000</td>\n",
       "      <td>0.0</td>\n",
       "      <td>2021</td>\n",
       "      <td>5</td>\n",
       "      <td>25</td>\n",
       "      <td>100.0</td>\n",
       "      <td>100.0</td>\n",
       "      <td>100.0</td>\n",
       "      <td>100.0</td>\n",
       "      <td>67.0</td>\n",
       "    </tr>\n",
       "    <tr>\n",
       "      <th>2</th>\n",
       "      <td>Herzogin Elisabeth Hospital</td>\n",
       "      <td>Knie OP</td>\n",
       "      <td>2021-05-11</td>\n",
       "      <td>Orthopädie</td>\n",
       "      <td>Wurde bereits im Sept. 2020 am Knie operiert. ...</td>\n",
       "      <td>sehr zufrieden</td>\n",
       "      <td>sehr zufrieden</td>\n",
       "      <td>sehr zufrieden</td>\n",
       "      <td>sehr zufrieden</td>\n",
       "      <td>sehr zufrieden</td>\n",
       "      <td>0.242857</td>\n",
       "      <td>0.0</td>\n",
       "      <td>2021</td>\n",
       "      <td>5</td>\n",
       "      <td>11</td>\n",
       "      <td>100.0</td>\n",
       "      <td>100.0</td>\n",
       "      <td>100.0</td>\n",
       "      <td>100.0</td>\n",
       "      <td>100.0</td>\n",
       "    </tr>\n",
       "    <tr>\n",
       "      <th>3</th>\n",
       "      <td>Herzogin Elisabeth Hospital</td>\n",
       "      <td>Beste Erfahrungen im HEH</td>\n",
       "      <td>2021-05-09</td>\n",
       "      <td>Chirurgie</td>\n",
       "      <td>Da ich zeit meines Lebens noch nie einen Krank...</td>\n",
       "      <td>sehr zufrieden</td>\n",
       "      <td>sehr zufrieden</td>\n",
       "      <td>sehr zufrieden</td>\n",
       "      <td>zufrieden</td>\n",
       "      <td>sehr zufrieden</td>\n",
       "      <td>0.536111</td>\n",
       "      <td>0.0</td>\n",
       "      <td>2021</td>\n",
       "      <td>5</td>\n",
       "      <td>9</td>\n",
       "      <td>100.0</td>\n",
       "      <td>100.0</td>\n",
       "      <td>100.0</td>\n",
       "      <td>67.0</td>\n",
       "      <td>100.0</td>\n",
       "    </tr>\n",
       "    <tr>\n",
       "      <th>4</th>\n",
       "      <td>Herzogin Elisabeth Hospital</td>\n",
       "      <td>Superkompetent und freundlich</td>\n",
       "      <td>2021-05-07</td>\n",
       "      <td>Gefäßchirurgie</td>\n",
       "      <td>Das gesamte Personal von der Notaufnahme über ...</td>\n",
       "      <td>sehr zufrieden</td>\n",
       "      <td>sehr zufrieden</td>\n",
       "      <td>sehr zufrieden</td>\n",
       "      <td>sehr zufrieden</td>\n",
       "      <td>zufrieden</td>\n",
       "      <td>0.428571</td>\n",
       "      <td>0.0</td>\n",
       "      <td>2021</td>\n",
       "      <td>5</td>\n",
       "      <td>7</td>\n",
       "      <td>100.0</td>\n",
       "      <td>100.0</td>\n",
       "      <td>100.0</td>\n",
       "      <td>100.0</td>\n",
       "      <td>67.0</td>\n",
       "    </tr>\n",
       "    <tr>\n",
       "      <th>5</th>\n",
       "      <td>Herzogin Elisabeth Hospital</td>\n",
       "      <td>Endlich eine Diagnose</td>\n",
       "      <td>2021-05-05</td>\n",
       "      <td>Rheuma</td>\n",
       "      <td>Seit über 10 Jahren lebe ich mit Symptomen und...</td>\n",
       "      <td>sehr zufrieden</td>\n",
       "      <td>sehr zufrieden</td>\n",
       "      <td>sehr zufrieden</td>\n",
       "      <td>sehr zufrieden</td>\n",
       "      <td>zufrieden</td>\n",
       "      <td>0.523333</td>\n",
       "      <td>0.0</td>\n",
       "      <td>2021</td>\n",
       "      <td>5</td>\n",
       "      <td>5</td>\n",
       "      <td>100.0</td>\n",
       "      <td>100.0</td>\n",
       "      <td>100.0</td>\n",
       "      <td>100.0</td>\n",
       "      <td>67.0</td>\n",
       "    </tr>\n",
       "    <tr>\n",
       "      <th>6</th>\n",
       "      <td>Herzogin Elisabeth Hospital</td>\n",
       "      <td>Schlecht behandelt</td>\n",
       "      <td>2021-04-15</td>\n",
       "      <td>Unfallchirurgie</td>\n",
       "      <td>Ich war in der Notaufnahme hatte Todes Schmerz...</td>\n",
       "      <td>unzufrieden</td>\n",
       "      <td>unzufrieden</td>\n",
       "      <td>unzufrieden</td>\n",
       "      <td>unzufrieden</td>\n",
       "      <td>weniger zufrieden</td>\n",
       "      <td>-0.575000</td>\n",
       "      <td>0.0</td>\n",
       "      <td>2021</td>\n",
       "      <td>4</td>\n",
       "      <td>15</td>\n",
       "      <td>0.0</td>\n",
       "      <td>0.0</td>\n",
       "      <td>0.0</td>\n",
       "      <td>0.0</td>\n",
       "      <td>33.0</td>\n",
       "    </tr>\n",
       "    <tr>\n",
       "      <th>7</th>\n",
       "      <td>Herzogin Elisabeth Hospital</td>\n",
       "      <td>Top Klinik</td>\n",
       "      <td>2021-04-13</td>\n",
       "      <td>Orthopädie</td>\n",
       "      <td>Eine absolut Superklinik.Habe eine neue Hüfte ...</td>\n",
       "      <td>sehr zufrieden</td>\n",
       "      <td>sehr zufrieden</td>\n",
       "      <td>sehr zufrieden</td>\n",
       "      <td>sehr zufrieden</td>\n",
       "      <td>sehr zufrieden</td>\n",
       "      <td>0.500000</td>\n",
       "      <td>0.0</td>\n",
       "      <td>2021</td>\n",
       "      <td>4</td>\n",
       "      <td>13</td>\n",
       "      <td>100.0</td>\n",
       "      <td>100.0</td>\n",
       "      <td>100.0</td>\n",
       "      <td>100.0</td>\n",
       "      <td>100.0</td>\n",
       "    </tr>\n",
       "    <tr>\n",
       "      <th>8</th>\n",
       "      <td>Herzogin Elisabeth Hospital</td>\n",
       "      <td>Ein angenehmer Aufenthalt</td>\n",
       "      <td>2021-04-13</td>\n",
       "      <td>Gefäßchirurgie</td>\n",
       "      <td>Die Mitarbeiter waren sehr kompetent und sehr ...</td>\n",
       "      <td>sehr zufrieden</td>\n",
       "      <td>sehr zufrieden</td>\n",
       "      <td>sehr zufrieden</td>\n",
       "      <td>sehr zufrieden</td>\n",
       "      <td>zufrieden</td>\n",
       "      <td>1.000000</td>\n",
       "      <td>0.0</td>\n",
       "      <td>2021</td>\n",
       "      <td>4</td>\n",
       "      <td>13</td>\n",
       "      <td>100.0</td>\n",
       "      <td>100.0</td>\n",
       "      <td>100.0</td>\n",
       "      <td>100.0</td>\n",
       "      <td>67.0</td>\n",
       "    </tr>\n",
       "    <tr>\n",
       "      <th>9</th>\n",
       "      <td>Herzogin Elisabeth Hospital</td>\n",
       "      <td>Die neuen Kopfkissen sind sehr schlecht</td>\n",
       "      <td>2021-04-06</td>\n",
       "      <td>Chirurgie</td>\n",
       "      <td>Alles in allem wieder eine gute Erfahrung, jed...</td>\n",
       "      <td>zufrieden</td>\n",
       "      <td>sehr zufrieden</td>\n",
       "      <td>sehr zufrieden</td>\n",
       "      <td>zufrieden</td>\n",
       "      <td>weniger zufrieden</td>\n",
       "      <td>0.333333</td>\n",
       "      <td>0.0</td>\n",
       "      <td>2021</td>\n",
       "      <td>4</td>\n",
       "      <td>6</td>\n",
       "      <td>67.0</td>\n",
       "      <td>100.0</td>\n",
       "      <td>100.0</td>\n",
       "      <td>67.0</td>\n",
       "      <td>33.0</td>\n",
       "    </tr>\n",
       "  </tbody>\n",
       "</table>\n",
       "</div>"
      ],
      "text/plain": [
       "               Name der Klinik                                    Titel  \\\n",
       "0  Herzogin Elisabeth Hospital                              Superklinik   \n",
       "1  Herzogin Elisabeth Hospital               Kranken- oder Hotelzimmer?   \n",
       "2  Herzogin Elisabeth Hospital                                  Knie OP   \n",
       "3  Herzogin Elisabeth Hospital                 Beste Erfahrungen im HEH   \n",
       "4  Herzogin Elisabeth Hospital            Superkompetent und freundlich   \n",
       "5  Herzogin Elisabeth Hospital                    Endlich eine Diagnose   \n",
       "6  Herzogin Elisabeth Hospital                       Schlecht behandelt   \n",
       "7  Herzogin Elisabeth Hospital                               Top Klinik   \n",
       "8  Herzogin Elisabeth Hospital                Ein angenehmer Aufenthalt   \n",
       "9  Herzogin Elisabeth Hospital  Die neuen Kopfkissen sind sehr schlecht   \n",
       "\n",
       "        Datum      Fachbereich  \\\n",
       "0  2021-06-07       Orthopädie   \n",
       "1  2021-05-25  Unfallchirurgie   \n",
       "2  2021-05-11       Orthopädie   \n",
       "3  2021-05-09        Chirurgie   \n",
       "4  2021-05-07   Gefäßchirurgie   \n",
       "5  2021-05-05           Rheuma   \n",
       "6  2021-04-15  Unfallchirurgie   \n",
       "7  2021-04-13       Orthopädie   \n",
       "8  2021-04-13   Gefäßchirurgie   \n",
       "9  2021-04-06        Chirurgie   \n",
       "\n",
       "                                   Erfahrungsbericht Gesamtzufriedenheit  \\\n",
       "0  Bestens durchorganisiert.gutes Personal geht i...      sehr zufrieden   \n",
       "1  Bin nach einem Autounfall im HEH gewesen und h...      sehr zufrieden   \n",
       "2  Wurde bereits im Sept. 2020 am Knie operiert. ...      sehr zufrieden   \n",
       "3  Da ich zeit meines Lebens noch nie einen Krank...      sehr zufrieden   \n",
       "4  Das gesamte Personal von der Notaufnahme über ...      sehr zufrieden   \n",
       "5  Seit über 10 Jahren lebe ich mit Symptomen und...      sehr zufrieden   \n",
       "6  Ich war in der Notaufnahme hatte Todes Schmerz...         unzufrieden   \n",
       "7  Eine absolut Superklinik.Habe eine neue Hüfte ...      sehr zufrieden   \n",
       "8  Die Mitarbeiter waren sehr kompetent und sehr ...      sehr zufrieden   \n",
       "9  Alles in allem wieder eine gute Erfahrung, jed...           zufrieden   \n",
       "\n",
       "  Qualität der Beratung Mediz. Behandlung Verwaltung und Abläufe  \\\n",
       "0        sehr zufrieden    sehr zufrieden         sehr zufrieden   \n",
       "1        sehr zufrieden    sehr zufrieden         sehr zufrieden   \n",
       "2        sehr zufrieden    sehr zufrieden         sehr zufrieden   \n",
       "3        sehr zufrieden    sehr zufrieden              zufrieden   \n",
       "4        sehr zufrieden    sehr zufrieden         sehr zufrieden   \n",
       "5        sehr zufrieden    sehr zufrieden         sehr zufrieden   \n",
       "6           unzufrieden       unzufrieden            unzufrieden   \n",
       "7        sehr zufrieden    sehr zufrieden         sehr zufrieden   \n",
       "8        sehr zufrieden    sehr zufrieden         sehr zufrieden   \n",
       "9        sehr zufrieden    sehr zufrieden              zufrieden   \n",
       "\n",
       "  Ausstattung und Gestaltung  Polaritiy  Subjectivity  year  month  day  \\\n",
       "0             sehr zufrieden   0.000000           0.0  2021      6    7   \n",
       "1                  zufrieden   0.340000           0.0  2021      5   25   \n",
       "2             sehr zufrieden   0.242857           0.0  2021      5   11   \n",
       "3             sehr zufrieden   0.536111           0.0  2021      5    9   \n",
       "4                  zufrieden   0.428571           0.0  2021      5    7   \n",
       "5                  zufrieden   0.523333           0.0  2021      5    5   \n",
       "6          weniger zufrieden  -0.575000           0.0  2021      4   15   \n",
       "7             sehr zufrieden   0.500000           0.0  2021      4   13   \n",
       "8                  zufrieden   1.000000           0.0  2021      4   13   \n",
       "9          weniger zufrieden   0.333333           0.0  2021      4    6   \n",
       "\n",
       "   Gesamt  Qualität  Behandlung  Verwaltung  Ausstattung  \n",
       "0   100.0     100.0       100.0       100.0        100.0  \n",
       "1   100.0     100.0       100.0       100.0         67.0  \n",
       "2   100.0     100.0       100.0       100.0        100.0  \n",
       "3   100.0     100.0       100.0        67.0        100.0  \n",
       "4   100.0     100.0       100.0       100.0         67.0  \n",
       "5   100.0     100.0       100.0       100.0         67.0  \n",
       "6     0.0       0.0         0.0         0.0         33.0  \n",
       "7   100.0     100.0       100.0       100.0        100.0  \n",
       "8   100.0     100.0       100.0       100.0         67.0  \n",
       "9    67.0     100.0       100.0        67.0         33.0  "
      ]
     },
     "execution_count": 4,
     "metadata": {},
     "output_type": "execute_result"
    }
   ],
   "source": [
    "df = pd.read_csv(\"../../Data Wrangling/klinik_bewertungen_afterWrangling.csv\")\n",
    "df.head(10)"
   ]
  },
  {
   "cell_type": "code",
   "execution_count": 5,
   "metadata": {},
   "outputs": [
    {
     "data": {
      "text/plain": [
       "<AxesSubplot:xlabel='Polaritiy', ylabel='Count'>"
      ]
     },
     "execution_count": 5,
     "metadata": {},
     "output_type": "execute_result"
    },
    {
     "data": {
      "image/png": "[encoded data removed]",
      "text/plain": [
       "<Figure size 1152x432 with 1 Axes>"
      ]
     },
     "metadata": {
      "needs_background": "light"
     },
     "output_type": "display_data"
    }
   ],
   "source": [
    "plt.figure(figsize=(16, 6))\n",
    "sns.histplot(df[\"Polaritiy\"])"
   ]
  },
  {
   "cell_type": "code",
   "execution_count": 6,
   "metadata": {},
   "outputs": [
    {
     "data": {
      "text/plain": [
       "(1284, 20)"
      ]
     },
     "execution_count": 6,
     "metadata": {},
     "output_type": "execute_result"
    }
   ],
   "source": [
    "df[df['Polaritiy']>=0.1].shape"
   ]
  },
  {
   "cell_type": "code",
   "execution_count": 7,
   "metadata": {},
   "outputs": [
    {
     "data": {
      "text/plain": [
       "(1229, 20)"
      ]
     },
     "execution_count": 7,
     "metadata": {},
     "output_type": "execute_result"
    }
   ],
   "source": [
    "df[df['Gesamt']>=50].shape"
   ]
  },
  {
   "cell_type": "code",
   "execution_count": 8,
   "metadata": {
    "scrolled": false
   },
   "outputs": [
    {
     "data": {
      "text/plain": [
       "<AxesSubplot:xlabel='Gesamt', ylabel='Count'>"
      ]
     },
     "execution_count": 8,
     "metadata": {},
     "output_type": "execute_result"
    },
    {
     "data": {
      "image/png": "[encoded data removed]",
      "text/plain": [
       "<Figure size 1152x432 with 1 Axes>"
      ]
     },
     "metadata": {
      "needs_background": "light"
     },
     "output_type": "display_data"
    }
   ],
   "source": [
    "plt.figure(figsize=(16, 6))\n",
    "sns.histplot(df[\"Gesamt\"])"
   ]
  },
  {
   "cell_type": "code",
   "execution_count": 9,
   "metadata": {},
   "outputs": [
    {
     "data": {
      "text/html": [
       "<div>\n",
       "<style scoped>\n",
       "    .dataframe tbody tr th:only-of-type {\n",
       "        vertical-align: middle;\n",
       "    }\n",
       "\n",
       "    .dataframe tbody tr th {\n",
       "        vertical-align: top;\n",
       "    }\n",
       "\n",
       "    .dataframe thead th {\n",
       "        text-align: right;\n",
       "    }\n",
       "</style>\n",
       "<table border=\"1\" class=\"dataframe\">\n",
       "  <thead>\n",
       "    <tr style=\"text-align: right;\">\n",
       "      <th></th>\n",
       "      <th>Gesamt</th>\n",
       "    </tr>\n",
       "  </thead>\n",
       "  <tbody>\n",
       "    <tr>\n",
       "      <th>sehr zufrieden</th>\n",
       "      <td>999</td>\n",
       "    </tr>\n",
       "    <tr>\n",
       "      <th>unzufrieden</th>\n",
       "      <td>674</td>\n",
       "    </tr>\n",
       "    <tr>\n",
       "      <th>zufrieden</th>\n",
       "      <td>230</td>\n",
       "    </tr>\n",
       "    <tr>\n",
       "      <th>weniger zufrieden</th>\n",
       "      <td>155</td>\n",
       "    </tr>\n",
       "  </tbody>\n",
       "</table>\n",
       "</div>"
      ],
      "text/plain": [
       "                   Gesamt\n",
       "sehr zufrieden        999\n",
       "unzufrieden           674\n",
       "zufrieden             230\n",
       "weniger zufrieden     155"
      ]
     },
     "execution_count": 9,
     "metadata": {},
     "output_type": "execute_result"
    }
   ],
   "source": [
    "df_gesamt=df['Gesamt'].value_counts().to_frame()\n",
    "df_gesamt.index=[\"sehr zufrieden\",\"unzufrieden\",\"zufrieden\",\"weniger zufrieden\"]\n",
    "df_gesamt"
   ]
  },
  {
   "cell_type": "code",
   "execution_count": 10,
   "metadata": {},
   "outputs": [
    {
     "data": {
      "image/png": "[encoded data removed]",
      "text/plain": [
       "<Figure size 1080x432 with 1 Axes>"
      ]
     },
     "metadata": {},
     "output_type": "display_data"
    }
   ],
   "source": [
    "\n",
    "colors_list = ['gold', 'yellowgreen', 'lightcoral', 'lightskyblue']\n",
    "explode_list = [0, 0.1, 0, 0] # ratio for each continent with which to offset each wedge.\n",
    "\n",
    "df_gesamt['Gesamt'].plot(kind='pie',\n",
    "                            figsize=(15, 6),\n",
    "                             \n",
    "                            startangle=90,    \n",
    "                            shadow=True,       \n",
    "                                     # turn off labels on pie chart\n",
    "                            pctdistance=1.1,    # the ratio between the center of each pie slice and the start of the text generated by autopct \n",
    "                            colors=colors_list,  # add custom colors\n",
    "                            explode=explode_list # 'explode' lowest 3 continents\n",
    "                            )\n",
    "\n",
    "# scale the title up by 12% to match pctdistance\n",
    "plt.title('Klinikbewertung.de Kommentare', y=1.12) \n",
    "\n",
    "plt.axis('equal') \n",
    "\n",
    "# add legend\n",
    "#plt.legend(labels=df_gesamt.index, loc='upper left') \n",
    "\n",
    "plt.show()"
   ]
  },
  {
   "cell_type": "code",
   "execution_count": 11,
   "metadata": {},
   "outputs": [
    {
     "name": "stdout",
     "output_type": "stream",
     "text": [
      "gleich:  1655\n",
      "0.8381924198250729\n"
     ]
    }
   ],
   "source": [
    "gleich=0\n",
    "for i in range(df.shape[0]):\n",
    "    if ((df.Polaritiy[i]>=0 and df.Gesamt[i]>50) or (df.Polaritiy[i]<=0 and df.Gesamt[i]<50)):\n",
    "        gleich+=1  \n",
    "print('gleich: ', gleich)\n",
    "print(1725/2058)"
   ]
  },
  {
   "cell_type": "code",
   "execution_count": 12,
   "metadata": {},
   "outputs": [],
   "source": [
    "positive=[]\n",
    "for i in range(df.shape[0]):\n",
    "    if (df.Polaritiy[i]>=0):\n",
    "        positive.append(1)\n",
    "    else:\n",
    "        positive.append(0)"
   ]
  },
  {
   "cell_type": "code",
   "execution_count": 13,
   "metadata": {
    "scrolled": false
   },
   "outputs": [
    {
     "data": {
      "text/html": [
       "<div>\n",
       "<style scoped>\n",
       "    .dataframe tbody tr th:only-of-type {\n",
       "        vertical-align: middle;\n",
       "    }\n",
       "\n",
       "    .dataframe tbody tr th {\n",
       "        vertical-align: top;\n",
       "    }\n",
       "\n",
       "    .dataframe thead th {\n",
       "        text-align: right;\n",
       "    }\n",
       "</style>\n",
       "<table border=\"1\" class=\"dataframe\">\n",
       "  <thead>\n",
       "    <tr style=\"text-align: right;\">\n",
       "      <th></th>\n",
       "      <th>Name der Klinik</th>\n",
       "      <th>Titel</th>\n",
       "      <th>Datum</th>\n",
       "      <th>Fachbereich</th>\n",
       "      <th>Erfahrungsbericht</th>\n",
       "      <th>Gesamtzufriedenheit</th>\n",
       "      <th>Qualität der Beratung</th>\n",
       "      <th>Mediz. Behandlung</th>\n",
       "      <th>Verwaltung und Abläufe</th>\n",
       "      <th>Ausstattung und Gestaltung</th>\n",
       "      <th>...</th>\n",
       "      <th>Subjectivity</th>\n",
       "      <th>year</th>\n",
       "      <th>month</th>\n",
       "      <th>day</th>\n",
       "      <th>Gesamt</th>\n",
       "      <th>Qualität</th>\n",
       "      <th>Behandlung</th>\n",
       "      <th>Verwaltung</th>\n",
       "      <th>Ausstattung</th>\n",
       "      <th>positive</th>\n",
       "    </tr>\n",
       "  </thead>\n",
       "  <tbody>\n",
       "    <tr>\n",
       "      <th>0</th>\n",
       "      <td>Herzogin Elisabeth Hospital</td>\n",
       "      <td>Superklinik</td>\n",
       "      <td>2021-06-07</td>\n",
       "      <td>Orthopädie</td>\n",
       "      <td>Bestens durchorganisiert.gutes Personal geht i...</td>\n",
       "      <td>sehr zufrieden</td>\n",
       "      <td>sehr zufrieden</td>\n",
       "      <td>sehr zufrieden</td>\n",
       "      <td>sehr zufrieden</td>\n",
       "      <td>sehr zufrieden</td>\n",
       "      <td>...</td>\n",
       "      <td>0.000000</td>\n",
       "      <td>2021</td>\n",
       "      <td>6</td>\n",
       "      <td>7</td>\n",
       "      <td>100.0</td>\n",
       "      <td>100.0</td>\n",
       "      <td>100.0</td>\n",
       "      <td>100.0</td>\n",
       "      <td>100.0</td>\n",
       "      <td>1</td>\n",
       "    </tr>\n",
       "    <tr>\n",
       "      <th>1</th>\n",
       "      <td>Herzogin Elisabeth Hospital</td>\n",
       "      <td>Kranken- oder Hotelzimmer?</td>\n",
       "      <td>2021-05-25</td>\n",
       "      <td>Unfallchirurgie</td>\n",
       "      <td>Bin nach einem Autounfall im HEH gewesen und h...</td>\n",
       "      <td>sehr zufrieden</td>\n",
       "      <td>sehr zufrieden</td>\n",
       "      <td>sehr zufrieden</td>\n",
       "      <td>sehr zufrieden</td>\n",
       "      <td>zufrieden</td>\n",
       "      <td>...</td>\n",
       "      <td>0.000000</td>\n",
       "      <td>2021</td>\n",
       "      <td>5</td>\n",
       "      <td>25</td>\n",
       "      <td>100.0</td>\n",
       "      <td>100.0</td>\n",
       "      <td>100.0</td>\n",
       "      <td>100.0</td>\n",
       "      <td>67.0</td>\n",
       "      <td>1</td>\n",
       "    </tr>\n",
       "    <tr>\n",
       "      <th>2</th>\n",
       "      <td>Herzogin Elisabeth Hospital</td>\n",
       "      <td>Knie OP</td>\n",
       "      <td>2021-05-11</td>\n",
       "      <td>Orthopädie</td>\n",
       "      <td>Wurde bereits im Sept. 2020 am Knie operiert. ...</td>\n",
       "      <td>sehr zufrieden</td>\n",
       "      <td>sehr zufrieden</td>\n",
       "      <td>sehr zufrieden</td>\n",
       "      <td>sehr zufrieden</td>\n",
       "      <td>sehr zufrieden</td>\n",
       "      <td>...</td>\n",
       "      <td>0.000000</td>\n",
       "      <td>2021</td>\n",
       "      <td>5</td>\n",
       "      <td>11</td>\n",
       "      <td>100.0</td>\n",
       "      <td>100.0</td>\n",
       "      <td>100.0</td>\n",
       "      <td>100.0</td>\n",
       "      <td>100.0</td>\n",
       "      <td>1</td>\n",
       "    </tr>\n",
       "    <tr>\n",
       "      <th>3</th>\n",
       "      <td>Herzogin Elisabeth Hospital</td>\n",
       "      <td>Beste Erfahrungen im HEH</td>\n",
       "      <td>2021-05-09</td>\n",
       "      <td>Chirurgie</td>\n",
       "      <td>Da ich zeit meines Lebens noch nie einen Krank...</td>\n",
       "      <td>sehr zufrieden</td>\n",
       "      <td>sehr zufrieden</td>\n",
       "      <td>sehr zufrieden</td>\n",
       "      <td>zufrieden</td>\n",
       "      <td>sehr zufrieden</td>\n",
       "      <td>...</td>\n",
       "      <td>0.000000</td>\n",
       "      <td>2021</td>\n",
       "      <td>5</td>\n",
       "      <td>9</td>\n",
       "      <td>100.0</td>\n",
       "      <td>100.0</td>\n",
       "      <td>100.0</td>\n",
       "      <td>67.0</td>\n",
       "      <td>100.0</td>\n",
       "      <td>1</td>\n",
       "    </tr>\n",
       "    <tr>\n",
       "      <th>4</th>\n",
       "      <td>Herzogin Elisabeth Hospital</td>\n",
       "      <td>Superkompetent und freundlich</td>\n",
       "      <td>2021-05-07</td>\n",
       "      <td>Gefäßchirurgie</td>\n",
       "      <td>Das gesamte Personal von der Notaufnahme über ...</td>\n",
       "      <td>sehr zufrieden</td>\n",
       "      <td>sehr zufrieden</td>\n",
       "      <td>sehr zufrieden</td>\n",
       "      <td>sehr zufrieden</td>\n",
       "      <td>zufrieden</td>\n",
       "      <td>...</td>\n",
       "      <td>0.000000</td>\n",
       "      <td>2021</td>\n",
       "      <td>5</td>\n",
       "      <td>7</td>\n",
       "      <td>100.0</td>\n",
       "      <td>100.0</td>\n",
       "      <td>100.0</td>\n",
       "      <td>100.0</td>\n",
       "      <td>67.0</td>\n",
       "      <td>1</td>\n",
       "    </tr>\n",
       "    <tr>\n",
       "      <th>...</th>\n",
       "      <td>...</td>\n",
       "      <td>...</td>\n",
       "      <td>...</td>\n",
       "      <td>...</td>\n",
       "      <td>...</td>\n",
       "      <td>...</td>\n",
       "      <td>...</td>\n",
       "      <td>...</td>\n",
       "      <td>...</td>\n",
       "      <td>...</td>\n",
       "      <td>...</td>\n",
       "      <td>...</td>\n",
       "      <td>...</td>\n",
       "      <td>...</td>\n",
       "      <td>...</td>\n",
       "      <td>...</td>\n",
       "      <td>...</td>\n",
       "      <td>...</td>\n",
       "      <td>...</td>\n",
       "      <td>...</td>\n",
       "      <td>...</td>\n",
       "    </tr>\n",
       "    <tr>\n",
       "      <th>2053</th>\n",
       "      <td>Psychiatrische Klinik Lüneburg</td>\n",
       "      <td>Hilft nur in Krisen!</td>\n",
       "      <td>2013-07-23</td>\n",
       "      <td>Kind/Jugend-Psych.</td>\n",
       "      <td>Ich war in 2 verschiedenen Häusern. (ehm.) Hau...</td>\n",
       "      <td>weniger zufrieden</td>\n",
       "      <td>weniger zufrieden</td>\n",
       "      <td>zufrieden</td>\n",
       "      <td>unzufrieden</td>\n",
       "      <td>weniger zufrieden</td>\n",
       "      <td>...</td>\n",
       "      <td>0.000000</td>\n",
       "      <td>2013</td>\n",
       "      <td>7</td>\n",
       "      <td>23</td>\n",
       "      <td>33.0</td>\n",
       "      <td>33.0</td>\n",
       "      <td>67.0</td>\n",
       "      <td>0.0</td>\n",
       "      <td>33.0</td>\n",
       "      <td>1</td>\n",
       "    </tr>\n",
       "    <tr>\n",
       "      <th>2054</th>\n",
       "      <td>Psychiatrische Klinik Lüneburg</td>\n",
       "      <td>Mir gings schlechter als vorher</td>\n",
       "      <td>2013-03-19</td>\n",
       "      <td>Psychiatrie</td>\n",
       "      <td>Ich war vor kuzen Patientrin auf der Station 1...</td>\n",
       "      <td>unzufrieden</td>\n",
       "      <td>unzufrieden</td>\n",
       "      <td>unzufrieden</td>\n",
       "      <td>unzufrieden</td>\n",
       "      <td>unzufrieden</td>\n",
       "      <td>...</td>\n",
       "      <td>0.050000</td>\n",
       "      <td>2013</td>\n",
       "      <td>3</td>\n",
       "      <td>19</td>\n",
       "      <td>0.0</td>\n",
       "      <td>0.0</td>\n",
       "      <td>0.0</td>\n",
       "      <td>0.0</td>\n",
       "      <td>0.0</td>\n",
       "      <td>1</td>\n",
       "    </tr>\n",
       "    <tr>\n",
       "      <th>2055</th>\n",
       "      <td>Psychiatrische Klinik Lüneburg</td>\n",
       "      <td>Eine positive Überraschung!</td>\n",
       "      <td>2009-12-05</td>\n",
       "      <td>Psychiatrie</td>\n",
       "      <td>Ich befinde mich seit einigen Wochen in Behand...</td>\n",
       "      <td>sehr zufrieden</td>\n",
       "      <td>sehr zufrieden</td>\n",
       "      <td>zufrieden</td>\n",
       "      <td>sehr zufrieden</td>\n",
       "      <td>sehr zufrieden</td>\n",
       "      <td>...</td>\n",
       "      <td>0.066667</td>\n",
       "      <td>2009</td>\n",
       "      <td>12</td>\n",
       "      <td>5</td>\n",
       "      <td>100.0</td>\n",
       "      <td>100.0</td>\n",
       "      <td>67.0</td>\n",
       "      <td>100.0</td>\n",
       "      <td>100.0</td>\n",
       "      <td>1</td>\n",
       "    </tr>\n",
       "    <tr>\n",
       "      <th>2056</th>\n",
       "      <td>Psychiatrische Klinik Lüneburg</td>\n",
       "      <td>Tagesklinik Uelzener Straße</td>\n",
       "      <td>2009-10-25</td>\n",
       "      <td>Psychiatrie</td>\n",
       "      <td>Ich kann mich Angie nur anschließen! Diese Tag...</td>\n",
       "      <td>unzufrieden</td>\n",
       "      <td>unzufrieden</td>\n",
       "      <td>unzufrieden</td>\n",
       "      <td>unzufrieden</td>\n",
       "      <td>unzufrieden</td>\n",
       "      <td>...</td>\n",
       "      <td>0.083333</td>\n",
       "      <td>2009</td>\n",
       "      <td>10</td>\n",
       "      <td>25</td>\n",
       "      <td>0.0</td>\n",
       "      <td>0.0</td>\n",
       "      <td>0.0</td>\n",
       "      <td>0.0</td>\n",
       "      <td>0.0</td>\n",
       "      <td>0</td>\n",
       "    </tr>\n",
       "    <tr>\n",
       "      <th>2057</th>\n",
       "      <td>Psychiatrische Klinik Lüneburg</td>\n",
       "      <td>Eine einzige Katastrophe</td>\n",
       "      <td>2009-01-26</td>\n",
       "      <td>Kind/Jugend-Psych.</td>\n",
       "      <td>Hallo,diese Klinik ist eine einzige Katastroph...</td>\n",
       "      <td>unzufrieden</td>\n",
       "      <td>unzufrieden</td>\n",
       "      <td>unzufrieden</td>\n",
       "      <td>unzufrieden</td>\n",
       "      <td>unzufrieden</td>\n",
       "      <td>...</td>\n",
       "      <td>0.000000</td>\n",
       "      <td>2009</td>\n",
       "      <td>1</td>\n",
       "      <td>26</td>\n",
       "      <td>0.0</td>\n",
       "      <td>0.0</td>\n",
       "      <td>0.0</td>\n",
       "      <td>0.0</td>\n",
       "      <td>0.0</td>\n",
       "      <td>0</td>\n",
       "    </tr>\n",
       "  </tbody>\n",
       "</table>\n",
       "<p>2058 rows × 21 columns</p>\n",
       "</div>"
      ],
      "text/plain": [
       "                     Name der Klinik                            Titel  \\\n",
       "0        Herzogin Elisabeth Hospital                      Superklinik   \n",
       "1        Herzogin Elisabeth Hospital       Kranken- oder Hotelzimmer?   \n",
       "2        Herzogin Elisabeth Hospital                          Knie OP   \n",
       "3        Herzogin Elisabeth Hospital         Beste Erfahrungen im HEH   \n",
       "4        Herzogin Elisabeth Hospital    Superkompetent und freundlich   \n",
       "...                              ...                              ...   \n",
       "2053  Psychiatrische Klinik Lüneburg             Hilft nur in Krisen!   \n",
       "2054  Psychiatrische Klinik Lüneburg  Mir gings schlechter als vorher   \n",
       "2055  Psychiatrische Klinik Lüneburg      Eine positive Überraschung!   \n",
       "2056  Psychiatrische Klinik Lüneburg      Tagesklinik Uelzener Straße   \n",
       "2057  Psychiatrische Klinik Lüneburg         Eine einzige Katastrophe   \n",
       "\n",
       "           Datum         Fachbereich  \\\n",
       "0     2021-06-07          Orthopädie   \n",
       "1     2021-05-25     Unfallchirurgie   \n",
       "2     2021-05-11          Orthopädie   \n",
       "3     2021-05-09           Chirurgie   \n",
       "4     2021-05-07      Gefäßchirurgie   \n",
       "...          ...                 ...   \n",
       "2053  2013-07-23  Kind/Jugend-Psych.   \n",
       "2054  2013-03-19         Psychiatrie   \n",
       "2055  2009-12-05         Psychiatrie   \n",
       "2056  2009-10-25         Psychiatrie   \n",
       "2057  2009-01-26  Kind/Jugend-Psych.   \n",
       "\n",
       "                                      Erfahrungsbericht Gesamtzufriedenheit  \\\n",
       "0     Bestens durchorganisiert.gutes Personal geht i...      sehr zufrieden   \n",
       "1     Bin nach einem Autounfall im HEH gewesen und h...      sehr zufrieden   \n",
       "2     Wurde bereits im Sept. 2020 am Knie operiert. ...      sehr zufrieden   \n",
       "3     Da ich zeit meines Lebens noch nie einen Krank...      sehr zufrieden   \n",
       "4     Das gesamte Personal von der Notaufnahme über ...      sehr zufrieden   \n",
       "...                                                 ...                 ...   \n",
       "2053  Ich war in 2 verschiedenen Häusern. (ehm.) Hau...   weniger zufrieden   \n",
       "2054  Ich war vor kuzen Patientrin auf der Station 1...         unzufrieden   \n",
       "2055  Ich befinde mich seit einigen Wochen in Behand...      sehr zufrieden   \n",
       "2056  Ich kann mich Angie nur anschließen! Diese Tag...         unzufrieden   \n",
       "2057  Hallo,diese Klinik ist eine einzige Katastroph...         unzufrieden   \n",
       "\n",
       "     Qualität der Beratung Mediz. Behandlung Verwaltung und Abläufe  \\\n",
       "0           sehr zufrieden    sehr zufrieden         sehr zufrieden   \n",
       "1           sehr zufrieden    sehr zufrieden         sehr zufrieden   \n",
       "2           sehr zufrieden    sehr zufrieden         sehr zufrieden   \n",
       "3           sehr zufrieden    sehr zufrieden              zufrieden   \n",
       "4           sehr zufrieden    sehr zufrieden         sehr zufrieden   \n",
       "...                    ...               ...                    ...   \n",
       "2053     weniger zufrieden         zufrieden            unzufrieden   \n",
       "2054           unzufrieden       unzufrieden            unzufrieden   \n",
       "2055        sehr zufrieden         zufrieden         sehr zufrieden   \n",
       "2056           unzufrieden       unzufrieden            unzufrieden   \n",
       "2057           unzufrieden       unzufrieden            unzufrieden   \n",
       "\n",
       "     Ausstattung und Gestaltung  ...  Subjectivity  year  month  day  Gesamt  \\\n",
       "0                sehr zufrieden  ...      0.000000  2021      6    7   100.0   \n",
       "1                     zufrieden  ...      0.000000  2021      5   25   100.0   \n",
       "2                sehr zufrieden  ...      0.000000  2021      5   11   100.0   \n",
       "3                sehr zufrieden  ...      0.000000  2021      5    9   100.0   \n",
       "4                     zufrieden  ...      0.000000  2021      5    7   100.0   \n",
       "...                         ...  ...           ...   ...    ...  ...     ...   \n",
       "2053          weniger zufrieden  ...      0.000000  2013      7   23    33.0   \n",
       "2054                unzufrieden  ...      0.050000  2013      3   19     0.0   \n",
       "2055             sehr zufrieden  ...      0.066667  2009     12    5   100.0   \n",
       "2056                unzufrieden  ...      0.083333  2009     10   25     0.0   \n",
       "2057                unzufrieden  ...      0.000000  2009      1   26     0.0   \n",
       "\n",
       "      Qualität  Behandlung  Verwaltung  Ausstattung  positive  \n",
       "0        100.0       100.0       100.0        100.0         1  \n",
       "1        100.0       100.0       100.0         67.0         1  \n",
       "2        100.0       100.0       100.0        100.0         1  \n",
       "3        100.0       100.0        67.0        100.0         1  \n",
       "4        100.0       100.0       100.0         67.0         1  \n",
       "...        ...         ...         ...          ...       ...  \n",
       "2053      33.0        67.0         0.0         33.0         1  \n",
       "2054       0.0         0.0         0.0          0.0         1  \n",
       "2055     100.0        67.0       100.0        100.0         1  \n",
       "2056       0.0         0.0         0.0          0.0         0  \n",
       "2057       0.0         0.0         0.0          0.0         0  \n",
       "\n",
       "[2058 rows x 21 columns]"
      ]
     },
     "execution_count": 13,
     "metadata": {},
     "output_type": "execute_result"
    }
   ],
   "source": [
    "df[\"positive\"]=positive\n",
    "df"
   ]
  },
  {
   "cell_type": "code",
   "execution_count": 14,
   "metadata": {},
   "outputs": [
    {
     "data": {
      "text/plain": [
       "(1562, 21)"
      ]
     },
     "execution_count": 14,
     "metadata": {},
     "output_type": "execute_result"
    }
   ],
   "source": [
    "df[df['positive']==1].shape"
   ]
  },
  {
   "cell_type": "code",
   "execution_count": 15,
   "metadata": {},
   "outputs": [
    {
     "data": {
      "text/plain": [
       "(496, 21)"
      ]
     },
     "execution_count": 15,
     "metadata": {},
     "output_type": "execute_result"
    }
   ],
   "source": [
    "df[df['positive']==0].shape"
   ]
  },
  {
   "cell_type": "code",
   "execution_count": 16,
   "metadata": {},
   "outputs": [
    {
     "data": {
      "text/plain": [
       "<AxesSubplot:xlabel='positive', ylabel='Count'>"
      ]
     },
     "execution_count": 16,
     "metadata": {},
     "output_type": "execute_result"
    },
    {
     "data": {
      "image/png": "[encoded data removed]",
      "text/plain": [
       "<Figure size 432x432 with 1 Axes>"
      ]
     },
     "metadata": {
      "needs_background": "light"
     },
     "output_type": "display_data"
    }
   ],
   "source": [
    "plt.figure(figsize=(6, 6))\n",
    "sns.histplot(df[\"positive\"])"
   ]
  },
  {
   "cell_type": "code",
   "execution_count": 17,
   "metadata": {},
   "outputs": [
    {
     "data": {
      "text/html": [
       "<div>\n",
       "<style scoped>\n",
       "    .dataframe tbody tr th:only-of-type {\n",
       "        vertical-align: middle;\n",
       "    }\n",
       "\n",
       "    .dataframe tbody tr th {\n",
       "        vertical-align: top;\n",
       "    }\n",
       "\n",
       "    .dataframe thead th {\n",
       "        text-align: right;\n",
       "    }\n",
       "</style>\n",
       "<table border=\"1\" class=\"dataframe\">\n",
       "  <thead>\n",
       "    <tr style=\"text-align: right;\">\n",
       "      <th></th>\n",
       "      <th>positive</th>\n",
       "    </tr>\n",
       "  </thead>\n",
       "  <tbody>\n",
       "    <tr>\n",
       "      <th>positive</th>\n",
       "      <td>1562</td>\n",
       "    </tr>\n",
       "    <tr>\n",
       "      <th>negative</th>\n",
       "      <td>496</td>\n",
       "    </tr>\n",
       "  </tbody>\n",
       "</table>\n",
       "</div>"
      ],
      "text/plain": [
       "          positive\n",
       "positive      1562\n",
       "negative       496"
      ]
     },
     "execution_count": 17,
     "metadata": {},
     "output_type": "execute_result"
    }
   ],
   "source": [
    "df_gesamt=df['positive'].value_counts().to_frame()\n",
    "df_gesamt.index=[\"positive\",\"negative\"]\n",
    "df_gesamt"
   ]
  },
  {
   "cell_type": "code",
   "execution_count": 53,
   "metadata": {
    "scrolled": false
   },
   "outputs": [
    {
     "data": {
      "image/png": "[encoded data removed]",
      "text/plain": [
       "<Figure size 1080x432 with 1 Axes>"
      ]
     },
     "metadata": {},
     "output_type": "display_data"
    }
   ],
   "source": [
    "\n",
    "colors_list = ['yellowgreen', 'lightcoral']\n",
    "explode_list = [0, 0.1] # ratio for each continent with which to offset each wedge.\n",
    "\n",
    "df_gesamt['positive'].plot(kind='pie',\n",
    "                            figsize=(15, 6),\n",
    "                             \n",
    "                            startangle=10,    \n",
    "                            shadow=True,       \n",
    "                                     # turn off labels on pie chart\n",
    "                            pctdistance=1.1,    # the ratio between the center of each pie slice and the start of the text generated by autopct \n",
    "                            colors=colors_list,  # add custom colors\n",
    "                            explode=explode_list # 'explode' lowest 3 continents\n",
    "                            )\n",
    "\n",
    "# scale the title up by 12% to match pctdistance\n",
    "plt.title('Klinikbewertung.de Kommentare TextBlob', y=1.12) \n",
    "\n",
    "plt.axis('equal') \n",
    "\n",
    "# add legend\n",
    "#plt.legend(labels=df_gesamt.index, loc='upper left') \n",
    "\n",
    "plt.show()"
   ]
  },
  {
   "cell_type": "code",
   "execution_count": 19,
   "metadata": {},
   "outputs": [
    {
     "data": {
      "text/plain": [
       "Index(['Name der Klinik', 'Titel', 'Datum', 'Fachbereich', 'Erfahrungsbericht',\n",
       "       'Gesamtzufriedenheit', 'Qualität der Beratung', 'Mediz. Behandlung',\n",
       "       'Verwaltung und Abläufe', 'Ausstattung und Gestaltung', 'Polaritiy',\n",
       "       'Subjectivity', 'year', 'month', 'day', 'Gesamt', 'Qualität',\n",
       "       'Behandlung', 'Verwaltung', 'Ausstattung', 'positive'],\n",
       "      dtype='object')"
      ]
     },
     "execution_count": 19,
     "metadata": {},
     "output_type": "execute_result"
    }
   ],
   "source": [
    "df.columns"
   ]
  },
  {
   "cell_type": "code",
   "execution_count": 20,
   "metadata": {},
   "outputs": [],
   "source": [
    "del df['Gesamtzufriedenheit']\n",
    "del df['Qualität der Beratung']\n",
    "del df['Mediz. Behandlung']\n",
    "del df['Verwaltung und Abläufe']\n",
    "del df['Ausstattung und Gestaltung']"
   ]
  },
  {
   "cell_type": "code",
   "execution_count": 21,
   "metadata": {},
   "outputs": [
    {
     "data": {
      "text/html": [
       "<div>\n",
       "<style scoped>\n",
       "    .dataframe tbody tr th:only-of-type {\n",
       "        vertical-align: middle;\n",
       "    }\n",
       "\n",
       "    .dataframe tbody tr th {\n",
       "        vertical-align: top;\n",
       "    }\n",
       "\n",
       "    .dataframe thead th {\n",
       "        text-align: right;\n",
       "    }\n",
       "</style>\n",
       "<table border=\"1\" class=\"dataframe\">\n",
       "  <thead>\n",
       "    <tr style=\"text-align: right;\">\n",
       "      <th></th>\n",
       "      <th>Name der Klinik</th>\n",
       "      <th>Titel</th>\n",
       "      <th>Datum</th>\n",
       "      <th>Fachbereich</th>\n",
       "      <th>Erfahrungsbericht</th>\n",
       "      <th>Polaritiy</th>\n",
       "      <th>Subjectivity</th>\n",
       "      <th>year</th>\n",
       "      <th>month</th>\n",
       "      <th>day</th>\n",
       "      <th>Gesamt</th>\n",
       "      <th>Qualität</th>\n",
       "      <th>Behandlung</th>\n",
       "      <th>Verwaltung</th>\n",
       "      <th>Ausstattung</th>\n",
       "      <th>positive</th>\n",
       "    </tr>\n",
       "  </thead>\n",
       "  <tbody>\n",
       "    <tr>\n",
       "      <th>0</th>\n",
       "      <td>Herzogin Elisabeth Hospital</td>\n",
       "      <td>Superklinik</td>\n",
       "      <td>2021-06-07</td>\n",
       "      <td>Orthopädie</td>\n",
       "      <td>Bestens durchorganisiert.gutes Personal geht i...</td>\n",
       "      <td>0.000000</td>\n",
       "      <td>0.0</td>\n",
       "      <td>2021</td>\n",
       "      <td>6</td>\n",
       "      <td>7</td>\n",
       "      <td>100.0</td>\n",
       "      <td>100.0</td>\n",
       "      <td>100.0</td>\n",
       "      <td>100.0</td>\n",
       "      <td>100.0</td>\n",
       "      <td>1</td>\n",
       "    </tr>\n",
       "    <tr>\n",
       "      <th>1</th>\n",
       "      <td>Herzogin Elisabeth Hospital</td>\n",
       "      <td>Kranken- oder Hotelzimmer?</td>\n",
       "      <td>2021-05-25</td>\n",
       "      <td>Unfallchirurgie</td>\n",
       "      <td>Bin nach einem Autounfall im HEH gewesen und h...</td>\n",
       "      <td>0.340000</td>\n",
       "      <td>0.0</td>\n",
       "      <td>2021</td>\n",
       "      <td>5</td>\n",
       "      <td>25</td>\n",
       "      <td>100.0</td>\n",
       "      <td>100.0</td>\n",
       "      <td>100.0</td>\n",
       "      <td>100.0</td>\n",
       "      <td>67.0</td>\n",
       "      <td>1</td>\n",
       "    </tr>\n",
       "    <tr>\n",
       "      <th>2</th>\n",
       "      <td>Herzogin Elisabeth Hospital</td>\n",
       "      <td>Knie OP</td>\n",
       "      <td>2021-05-11</td>\n",
       "      <td>Orthopädie</td>\n",
       "      <td>Wurde bereits im Sept. 2020 am Knie operiert. ...</td>\n",
       "      <td>0.242857</td>\n",
       "      <td>0.0</td>\n",
       "      <td>2021</td>\n",
       "      <td>5</td>\n",
       "      <td>11</td>\n",
       "      <td>100.0</td>\n",
       "      <td>100.0</td>\n",
       "      <td>100.0</td>\n",
       "      <td>100.0</td>\n",
       "      <td>100.0</td>\n",
       "      <td>1</td>\n",
       "    </tr>\n",
       "    <tr>\n",
       "      <th>3</th>\n",
       "      <td>Herzogin Elisabeth Hospital</td>\n",
       "      <td>Beste Erfahrungen im HEH</td>\n",
       "      <td>2021-05-09</td>\n",
       "      <td>Chirurgie</td>\n",
       "      <td>Da ich zeit meines Lebens noch nie einen Krank...</td>\n",
       "      <td>0.536111</td>\n",
       "      <td>0.0</td>\n",
       "      <td>2021</td>\n",
       "      <td>5</td>\n",
       "      <td>9</td>\n",
       "      <td>100.0</td>\n",
       "      <td>100.0</td>\n",
       "      <td>100.0</td>\n",
       "      <td>67.0</td>\n",
       "      <td>100.0</td>\n",
       "      <td>1</td>\n",
       "    </tr>\n",
       "    <tr>\n",
       "      <th>4</th>\n",
       "      <td>Herzogin Elisabeth Hospital</td>\n",
       "      <td>Superkompetent und freundlich</td>\n",
       "      <td>2021-05-07</td>\n",
       "      <td>Gefäßchirurgie</td>\n",
       "      <td>Das gesamte Personal von der Notaufnahme über ...</td>\n",
       "      <td>0.428571</td>\n",
       "      <td>0.0</td>\n",
       "      <td>2021</td>\n",
       "      <td>5</td>\n",
       "      <td>7</td>\n",
       "      <td>100.0</td>\n",
       "      <td>100.0</td>\n",
       "      <td>100.0</td>\n",
       "      <td>100.0</td>\n",
       "      <td>67.0</td>\n",
       "      <td>1</td>\n",
       "    </tr>\n",
       "  </tbody>\n",
       "</table>\n",
       "</div>"
      ],
      "text/plain": [
       "               Name der Klinik                          Titel       Datum  \\\n",
       "0  Herzogin Elisabeth Hospital                    Superklinik  2021-06-07   \n",
       "1  Herzogin Elisabeth Hospital     Kranken- oder Hotelzimmer?  2021-05-25   \n",
       "2  Herzogin Elisabeth Hospital                        Knie OP  2021-05-11   \n",
       "3  Herzogin Elisabeth Hospital       Beste Erfahrungen im HEH  2021-05-09   \n",
       "4  Herzogin Elisabeth Hospital  Superkompetent und freundlich  2021-05-07   \n",
       "\n",
       "       Fachbereich                                  Erfahrungsbericht  \\\n",
       "0       Orthopädie  Bestens durchorganisiert.gutes Personal geht i...   \n",
       "1  Unfallchirurgie  Bin nach einem Autounfall im HEH gewesen und h...   \n",
       "2       Orthopädie  Wurde bereits im Sept. 2020 am Knie operiert. ...   \n",
       "3        Chirurgie  Da ich zeit meines Lebens noch nie einen Krank...   \n",
       "4   Gefäßchirurgie  Das gesamte Personal von der Notaufnahme über ...   \n",
       "\n",
       "   Polaritiy  Subjectivity  year  month  day  Gesamt  Qualität  Behandlung  \\\n",
       "0   0.000000           0.0  2021      6    7   100.0     100.0       100.0   \n",
       "1   0.340000           0.0  2021      5   25   100.0     100.0       100.0   \n",
       "2   0.242857           0.0  2021      5   11   100.0     100.0       100.0   \n",
       "3   0.536111           0.0  2021      5    9   100.0     100.0       100.0   \n",
       "4   0.428571           0.0  2021      5    7   100.0     100.0       100.0   \n",
       "\n",
       "   Verwaltung  Ausstattung  positive  \n",
       "0       100.0        100.0         1  \n",
       "1       100.0         67.0         1  \n",
       "2       100.0        100.0         1  \n",
       "3        67.0        100.0         1  \n",
       "4       100.0         67.0         1  "
      ]
     },
     "execution_count": 21,
     "metadata": {},
     "output_type": "execute_result"
    }
   ],
   "source": [
    "df.head()"
   ]
  },
  {
   "cell_type": "code",
   "execution_count": 22,
   "metadata": {},
   "outputs": [],
   "source": [
    "df.to_csv('klinik_bewertungen_afterAnalysis.csv', index=False)"
   ]
  },
  {
   "cell_type": "markdown",
   "metadata": {},
   "source": [
    "<h2>Analyzing Individual Feature Patterns using Visualization</h2>"
   ]
  },
  {
   "cell_type": "code",
   "execution_count": 23,
   "metadata": {},
   "outputs": [],
   "source": [
    "import matplotlib.pyplot as plt\n",
    "import seaborn as sns\n",
    "%matplotlib inline "
   ]
  },
  {
   "cell_type": "code",
   "execution_count": 24,
   "metadata": {},
   "outputs": [
    {
     "data": {
      "text/html": [
       "<div>\n",
       "<style scoped>\n",
       "    .dataframe tbody tr th:only-of-type {\n",
       "        vertical-align: middle;\n",
       "    }\n",
       "\n",
       "    .dataframe tbody tr th {\n",
       "        vertical-align: top;\n",
       "    }\n",
       "\n",
       "    .dataframe thead th {\n",
       "        text-align: right;\n",
       "    }\n",
       "</style>\n",
       "<table border=\"1\" class=\"dataframe\">\n",
       "  <thead>\n",
       "    <tr style=\"text-align: right;\">\n",
       "      <th></th>\n",
       "      <th>Polaritiy</th>\n",
       "      <th>Subjectivity</th>\n",
       "      <th>year</th>\n",
       "      <th>month</th>\n",
       "      <th>day</th>\n",
       "      <th>Gesamt</th>\n",
       "      <th>Qualität</th>\n",
       "      <th>Behandlung</th>\n",
       "      <th>Verwaltung</th>\n",
       "      <th>Ausstattung</th>\n",
       "      <th>positive</th>\n",
       "    </tr>\n",
       "  </thead>\n",
       "  <tbody>\n",
       "    <tr>\n",
       "      <th>count</th>\n",
       "      <td>2058.000000</td>\n",
       "      <td>2058.000000</td>\n",
       "      <td>2058.000000</td>\n",
       "      <td>2058.000000</td>\n",
       "      <td>2058.000000</td>\n",
       "      <td>2058.000000</td>\n",
       "      <td>2058.000000</td>\n",
       "      <td>2058.000000</td>\n",
       "      <td>2058.000000</td>\n",
       "      <td>2058.000000</td>\n",
       "      <td>2058.000000</td>\n",
       "    </tr>\n",
       "    <tr>\n",
       "      <th>mean</th>\n",
       "      <td>0.244731</td>\n",
       "      <td>0.052974</td>\n",
       "      <td>2015.191448</td>\n",
       "      <td>6.437804</td>\n",
       "      <td>15.575316</td>\n",
       "      <td>58.515549</td>\n",
       "      <td>61.852284</td>\n",
       "      <td>65.138484</td>\n",
       "      <td>57.493197</td>\n",
       "      <td>57.449951</td>\n",
       "      <td>0.758989</td>\n",
       "    </tr>\n",
       "    <tr>\n",
       "      <th>std</th>\n",
       "      <td>0.395254</td>\n",
       "      <td>0.089364</td>\n",
       "      <td>3.590931</td>\n",
       "      <td>3.495433</td>\n",
       "      <td>8.656824</td>\n",
       "      <td>44.886991</td>\n",
       "      <td>42.724548</td>\n",
       "      <td>42.503096</td>\n",
       "      <td>40.602514</td>\n",
       "      <td>40.171384</td>\n",
       "      <td>0.427801</td>\n",
       "    </tr>\n",
       "    <tr>\n",
       "      <th>min</th>\n",
       "      <td>-1.000000</td>\n",
       "      <td>0.000000</td>\n",
       "      <td>2006.000000</td>\n",
       "      <td>1.000000</td>\n",
       "      <td>1.000000</td>\n",
       "      <td>0.000000</td>\n",
       "      <td>0.000000</td>\n",
       "      <td>0.000000</td>\n",
       "      <td>0.000000</td>\n",
       "      <td>0.000000</td>\n",
       "      <td>0.000000</td>\n",
       "    </tr>\n",
       "    <tr>\n",
       "      <th>25%</th>\n",
       "      <td>0.000000</td>\n",
       "      <td>0.000000</td>\n",
       "      <td>2012.000000</td>\n",
       "      <td>3.000000</td>\n",
       "      <td>8.000000</td>\n",
       "      <td>0.000000</td>\n",
       "      <td>0.000000</td>\n",
       "      <td>33.000000</td>\n",
       "      <td>0.000000</td>\n",
       "      <td>0.000000</td>\n",
       "      <td>1.000000</td>\n",
       "    </tr>\n",
       "    <tr>\n",
       "      <th>50%</th>\n",
       "      <td>0.221570</td>\n",
       "      <td>0.000000</td>\n",
       "      <td>2016.000000</td>\n",
       "      <td>6.000000</td>\n",
       "      <td>15.000000</td>\n",
       "      <td>67.000000</td>\n",
       "      <td>67.000000</td>\n",
       "      <td>100.000000</td>\n",
       "      <td>67.000000</td>\n",
       "      <td>67.000000</td>\n",
       "      <td>1.000000</td>\n",
       "    </tr>\n",
       "    <tr>\n",
       "      <th>75%</th>\n",
       "      <td>0.500000</td>\n",
       "      <td>0.081113</td>\n",
       "      <td>2018.000000</td>\n",
       "      <td>10.000000</td>\n",
       "      <td>23.000000</td>\n",
       "      <td>100.000000</td>\n",
       "      <td>100.000000</td>\n",
       "      <td>100.000000</td>\n",
       "      <td>100.000000</td>\n",
       "      <td>100.000000</td>\n",
       "      <td>1.000000</td>\n",
       "    </tr>\n",
       "    <tr>\n",
       "      <th>max</th>\n",
       "      <td>1.000000</td>\n",
       "      <td>1.000000</td>\n",
       "      <td>2021.000000</td>\n",
       "      <td>12.000000</td>\n",
       "      <td>31.000000</td>\n",
       "      <td>100.000000</td>\n",
       "      <td>100.000000</td>\n",
       "      <td>100.000000</td>\n",
       "      <td>100.000000</td>\n",
       "      <td>100.000000</td>\n",
       "      <td>1.000000</td>\n",
       "    </tr>\n",
       "  </tbody>\n",
       "</table>\n",
       "</div>"
      ],
      "text/plain": [
       "         Polaritiy  Subjectivity         year        month          day  \\\n",
       "count  2058.000000   2058.000000  2058.000000  2058.000000  2058.000000   \n",
       "mean      0.244731      0.052974  2015.191448     6.437804    15.575316   \n",
       "std       0.395254      0.089364     3.590931     3.495433     8.656824   \n",
       "min      -1.000000      0.000000  2006.000000     1.000000     1.000000   \n",
       "25%       0.000000      0.000000  2012.000000     3.000000     8.000000   \n",
       "50%       0.221570      0.000000  2016.000000     6.000000    15.000000   \n",
       "75%       0.500000      0.081113  2018.000000    10.000000    23.000000   \n",
       "max       1.000000      1.000000  2021.000000    12.000000    31.000000   \n",
       "\n",
       "            Gesamt     Qualität   Behandlung   Verwaltung  Ausstattung  \\\n",
       "count  2058.000000  2058.000000  2058.000000  2058.000000  2058.000000   \n",
       "mean     58.515549    61.852284    65.138484    57.493197    57.449951   \n",
       "std      44.886991    42.724548    42.503096    40.602514    40.171384   \n",
       "min       0.000000     0.000000     0.000000     0.000000     0.000000   \n",
       "25%       0.000000     0.000000    33.000000     0.000000     0.000000   \n",
       "50%      67.000000    67.000000   100.000000    67.000000    67.000000   \n",
       "75%     100.000000   100.000000   100.000000   100.000000   100.000000   \n",
       "max     100.000000   100.000000   100.000000   100.000000   100.000000   \n",
       "\n",
       "          positive  \n",
       "count  2058.000000  \n",
       "mean      0.758989  \n",
       "std       0.427801  \n",
       "min       0.000000  \n",
       "25%       1.000000  \n",
       "50%       1.000000  \n",
       "75%       1.000000  \n",
       "max       1.000000  "
      ]
     },
     "execution_count": 24,
     "metadata": {},
     "output_type": "execute_result"
    }
   ],
   "source": [
    "df.describe()"
   ]
  },
  {
   "cell_type": "code",
   "execution_count": 25,
   "metadata": {},
   "outputs": [
    {
     "data": {
      "text/html": [
       "<div>\n",
       "<style scoped>\n",
       "    .dataframe tbody tr th:only-of-type {\n",
       "        vertical-align: middle;\n",
       "    }\n",
       "\n",
       "    .dataframe tbody tr th {\n",
       "        vertical-align: top;\n",
       "    }\n",
       "\n",
       "    .dataframe thead th {\n",
       "        text-align: right;\n",
       "    }\n",
       "</style>\n",
       "<table border=\"1\" class=\"dataframe\">\n",
       "  <thead>\n",
       "    <tr style=\"text-align: right;\">\n",
       "      <th></th>\n",
       "      <th>Polaritiy</th>\n",
       "      <th>Subjectivity</th>\n",
       "      <th>year</th>\n",
       "      <th>month</th>\n",
       "      <th>day</th>\n",
       "      <th>Gesamt</th>\n",
       "      <th>Qualität</th>\n",
       "      <th>Behandlung</th>\n",
       "      <th>Verwaltung</th>\n",
       "      <th>Ausstattung</th>\n",
       "      <th>positive</th>\n",
       "    </tr>\n",
       "  </thead>\n",
       "  <tbody>\n",
       "    <tr>\n",
       "      <th>Polaritiy</th>\n",
       "      <td>1.000000</td>\n",
       "      <td>-0.173904</td>\n",
       "      <td>0.029498</td>\n",
       "      <td>0.004027</td>\n",
       "      <td>-0.036694</td>\n",
       "      <td>0.646253</td>\n",
       "      <td>0.600801</td>\n",
       "      <td>0.595137</td>\n",
       "      <td>0.566201</td>\n",
       "      <td>0.571510</td>\n",
       "      <td>0.690007</td>\n",
       "    </tr>\n",
       "    <tr>\n",
       "      <th>Subjectivity</th>\n",
       "      <td>-0.173904</td>\n",
       "      <td>1.000000</td>\n",
       "      <td>0.008139</td>\n",
       "      <td>-0.019843</td>\n",
       "      <td>-0.019372</td>\n",
       "      <td>-0.137786</td>\n",
       "      <td>-0.137938</td>\n",
       "      <td>-0.122526</td>\n",
       "      <td>-0.127569</td>\n",
       "      <td>-0.135321</td>\n",
       "      <td>-0.098364</td>\n",
       "    </tr>\n",
       "    <tr>\n",
       "      <th>year</th>\n",
       "      <td>0.029498</td>\n",
       "      <td>0.008139</td>\n",
       "      <td>1.000000</td>\n",
       "      <td>-0.092935</td>\n",
       "      <td>-0.024204</td>\n",
       "      <td>0.050437</td>\n",
       "      <td>0.057753</td>\n",
       "      <td>0.050691</td>\n",
       "      <td>0.059770</td>\n",
       "      <td>0.023977</td>\n",
       "      <td>0.007898</td>\n",
       "    </tr>\n",
       "    <tr>\n",
       "      <th>month</th>\n",
       "      <td>0.004027</td>\n",
       "      <td>-0.019843</td>\n",
       "      <td>-0.092935</td>\n",
       "      <td>1.000000</td>\n",
       "      <td>-0.033776</td>\n",
       "      <td>0.018577</td>\n",
       "      <td>0.010437</td>\n",
       "      <td>0.025328</td>\n",
       "      <td>0.022747</td>\n",
       "      <td>0.038041</td>\n",
       "      <td>-0.000601</td>\n",
       "    </tr>\n",
       "    <tr>\n",
       "      <th>day</th>\n",
       "      <td>-0.036694</td>\n",
       "      <td>-0.019372</td>\n",
       "      <td>-0.024204</td>\n",
       "      <td>-0.033776</td>\n",
       "      <td>1.000000</td>\n",
       "      <td>0.001171</td>\n",
       "      <td>-0.006083</td>\n",
       "      <td>-0.000777</td>\n",
       "      <td>0.006079</td>\n",
       "      <td>-0.006385</td>\n",
       "      <td>-0.033033</td>\n",
       "    </tr>\n",
       "    <tr>\n",
       "      <th>Gesamt</th>\n",
       "      <td>0.646253</td>\n",
       "      <td>-0.137786</td>\n",
       "      <td>0.050437</td>\n",
       "      <td>0.018577</td>\n",
       "      <td>0.001171</td>\n",
       "      <td>1.000000</td>\n",
       "      <td>0.905849</td>\n",
       "      <td>0.882627</td>\n",
       "      <td>0.831651</td>\n",
       "      <td>0.872123</td>\n",
       "      <td>0.552779</td>\n",
       "    </tr>\n",
       "    <tr>\n",
       "      <th>Qualität</th>\n",
       "      <td>0.600801</td>\n",
       "      <td>-0.137938</td>\n",
       "      <td>0.057753</td>\n",
       "      <td>0.010437</td>\n",
       "      <td>-0.006083</td>\n",
       "      <td>0.905849</td>\n",
       "      <td>1.000000</td>\n",
       "      <td>0.885012</td>\n",
       "      <td>0.790229</td>\n",
       "      <td>0.800918</td>\n",
       "      <td>0.522800</td>\n",
       "    </tr>\n",
       "    <tr>\n",
       "      <th>Behandlung</th>\n",
       "      <td>0.595137</td>\n",
       "      <td>-0.122526</td>\n",
       "      <td>0.050691</td>\n",
       "      <td>0.025328</td>\n",
       "      <td>-0.000777</td>\n",
       "      <td>0.882627</td>\n",
       "      <td>0.885012</td>\n",
       "      <td>1.000000</td>\n",
       "      <td>0.758685</td>\n",
       "      <td>0.777417</td>\n",
       "      <td>0.524507</td>\n",
       "    </tr>\n",
       "    <tr>\n",
       "      <th>Verwaltung</th>\n",
       "      <td>0.566201</td>\n",
       "      <td>-0.127569</td>\n",
       "      <td>0.059770</td>\n",
       "      <td>0.022747</td>\n",
       "      <td>0.006079</td>\n",
       "      <td>0.831651</td>\n",
       "      <td>0.790229</td>\n",
       "      <td>0.758685</td>\n",
       "      <td>1.000000</td>\n",
       "      <td>0.774485</td>\n",
       "      <td>0.479283</td>\n",
       "    </tr>\n",
       "    <tr>\n",
       "      <th>Ausstattung</th>\n",
       "      <td>0.571510</td>\n",
       "      <td>-0.135321</td>\n",
       "      <td>0.023977</td>\n",
       "      <td>0.038041</td>\n",
       "      <td>-0.006385</td>\n",
       "      <td>0.872123</td>\n",
       "      <td>0.800918</td>\n",
       "      <td>0.777417</td>\n",
       "      <td>0.774485</td>\n",
       "      <td>1.000000</td>\n",
       "      <td>0.472392</td>\n",
       "    </tr>\n",
       "    <tr>\n",
       "      <th>positive</th>\n",
       "      <td>0.690007</td>\n",
       "      <td>-0.098364</td>\n",
       "      <td>0.007898</td>\n",
       "      <td>-0.000601</td>\n",
       "      <td>-0.033033</td>\n",
       "      <td>0.552779</td>\n",
       "      <td>0.522800</td>\n",
       "      <td>0.524507</td>\n",
       "      <td>0.479283</td>\n",
       "      <td>0.472392</td>\n",
       "      <td>1.000000</td>\n",
       "    </tr>\n",
       "  </tbody>\n",
       "</table>\n",
       "</div>"
      ],
      "text/plain": [
       "              Polaritiy  Subjectivity      year     month       day    Gesamt  \\\n",
       "Polaritiy      1.000000     -0.173904  0.029498  0.004027 -0.036694  0.646253   \n",
       "Subjectivity  -0.173904      1.000000  0.008139 -0.019843 -0.019372 -0.137786   \n",
       "year           0.029498      0.008139  1.000000 -0.092935 -0.024204  0.050437   \n",
       "month          0.004027     -0.019843 -0.092935  1.000000 -0.033776  0.018577   \n",
       "day           -0.036694     -0.019372 -0.024204 -0.033776  1.000000  0.001171   \n",
       "Gesamt         0.646253     -0.137786  0.050437  0.018577  0.001171  1.000000   \n",
       "Qualität       0.600801     -0.137938  0.057753  0.010437 -0.006083  0.905849   \n",
       "Behandlung     0.595137     -0.122526  0.050691  0.025328 -0.000777  0.882627   \n",
       "Verwaltung     0.566201     -0.127569  0.059770  0.022747  0.006079  0.831651   \n",
       "Ausstattung    0.571510     -0.135321  0.023977  0.038041 -0.006385  0.872123   \n",
       "positive       0.690007     -0.098364  0.007898 -0.000601 -0.033033  0.552779   \n",
       "\n",
       "              Qualität  Behandlung  Verwaltung  Ausstattung  positive  \n",
       "Polaritiy     0.600801    0.595137    0.566201     0.571510  0.690007  \n",
       "Subjectivity -0.137938   -0.122526   -0.127569    -0.135321 -0.098364  \n",
       "year          0.057753    0.050691    0.059770     0.023977  0.007898  \n",
       "month         0.010437    0.025328    0.022747     0.038041 -0.000601  \n",
       "day          -0.006083   -0.000777    0.006079    -0.006385 -0.033033  \n",
       "Gesamt        0.905849    0.882627    0.831651     0.872123  0.552779  \n",
       "Qualität      1.000000    0.885012    0.790229     0.800918  0.522800  \n",
       "Behandlung    0.885012    1.000000    0.758685     0.777417  0.524507  \n",
       "Verwaltung    0.790229    0.758685    1.000000     0.774485  0.479283  \n",
       "Ausstattung   0.800918    0.777417    0.774485     1.000000  0.472392  \n",
       "positive      0.522800    0.524507    0.479283     0.472392  1.000000  "
      ]
     },
     "execution_count": 25,
     "metadata": {},
     "output_type": "execute_result"
    }
   ],
   "source": [
    "df.corr()"
   ]
  },
  {
   "cell_type": "code",
   "execution_count": 26,
   "metadata": {},
   "outputs": [
    {
     "data": {
      "text/html": [
       "<div>\n",
       "<style scoped>\n",
       "    .dataframe tbody tr th:only-of-type {\n",
       "        vertical-align: middle;\n",
       "    }\n",
       "\n",
       "    .dataframe tbody tr th {\n",
       "        vertical-align: top;\n",
       "    }\n",
       "\n",
       "    .dataframe thead th {\n",
       "        text-align: right;\n",
       "    }\n",
       "</style>\n",
       "<table border=\"1\" class=\"dataframe\">\n",
       "  <thead>\n",
       "    <tr style=\"text-align: right;\">\n",
       "      <th></th>\n",
       "      <th>Polaritiy</th>\n",
       "      <th>Gesamt</th>\n",
       "      <th>positive</th>\n",
       "    </tr>\n",
       "  </thead>\n",
       "  <tbody>\n",
       "    <tr>\n",
       "      <th>Polaritiy</th>\n",
       "      <td>1.000000</td>\n",
       "      <td>0.646253</td>\n",
       "      <td>0.690007</td>\n",
       "    </tr>\n",
       "    <tr>\n",
       "      <th>Gesamt</th>\n",
       "      <td>0.646253</td>\n",
       "      <td>1.000000</td>\n",
       "      <td>0.552779</td>\n",
       "    </tr>\n",
       "    <tr>\n",
       "      <th>positive</th>\n",
       "      <td>0.690007</td>\n",
       "      <td>0.552779</td>\n",
       "      <td>1.000000</td>\n",
       "    </tr>\n",
       "  </tbody>\n",
       "</table>\n",
       "</div>"
      ],
      "text/plain": [
       "           Polaritiy    Gesamt  positive\n",
       "Polaritiy   1.000000  0.646253  0.690007\n",
       "Gesamt      0.646253  1.000000  0.552779\n",
       "positive    0.690007  0.552779  1.000000"
      ]
     },
     "execution_count": 26,
     "metadata": {},
     "output_type": "execute_result"
    }
   ],
   "source": [
    "df[['Polaritiy', 'Gesamt',\"positive\"]].corr()  "
   ]
  },
  {
   "cell_type": "code",
   "execution_count": 27,
   "metadata": {},
   "outputs": [
    {
     "data": {
      "text/plain": [
       "Index(['Name der Klinik', 'Titel', 'Datum', 'Fachbereich', 'Erfahrungsbericht',\n",
       "       'Polaritiy', 'Subjectivity', 'year', 'month', 'day', 'Gesamt',\n",
       "       'Qualität', 'Behandlung', 'Verwaltung', 'Ausstattung', 'positive'],\n",
       "      dtype='object')"
      ]
     },
     "execution_count": 27,
     "metadata": {},
     "output_type": "execute_result"
    }
   ],
   "source": [
    "df.columns"
   ]
  },
  {
   "cell_type": "code",
   "execution_count": 28,
   "metadata": {},
   "outputs": [
    {
     "data": {
      "text/html": [
       "<div>\n",
       "<style scoped>\n",
       "    .dataframe tbody tr th:only-of-type {\n",
       "        vertical-align: middle;\n",
       "    }\n",
       "\n",
       "    .dataframe tbody tr th {\n",
       "        vertical-align: top;\n",
       "    }\n",
       "\n",
       "    .dataframe thead th {\n",
       "        text-align: right;\n",
       "    }\n",
       "</style>\n",
       "<table border=\"1\" class=\"dataframe\">\n",
       "  <thead>\n",
       "    <tr style=\"text-align: right;\">\n",
       "      <th></th>\n",
       "      <th>Qualität</th>\n",
       "      <th>Behandlung</th>\n",
       "      <th>Verwaltung</th>\n",
       "      <th>Ausstattung</th>\n",
       "    </tr>\n",
       "  </thead>\n",
       "  <tbody>\n",
       "    <tr>\n",
       "      <th>Qualität</th>\n",
       "      <td>1.000000</td>\n",
       "      <td>0.885012</td>\n",
       "      <td>0.790229</td>\n",
       "      <td>0.800918</td>\n",
       "    </tr>\n",
       "    <tr>\n",
       "      <th>Behandlung</th>\n",
       "      <td>0.885012</td>\n",
       "      <td>1.000000</td>\n",
       "      <td>0.758685</td>\n",
       "      <td>0.777417</td>\n",
       "    </tr>\n",
       "    <tr>\n",
       "      <th>Verwaltung</th>\n",
       "      <td>0.790229</td>\n",
       "      <td>0.758685</td>\n",
       "      <td>1.000000</td>\n",
       "      <td>0.774485</td>\n",
       "    </tr>\n",
       "    <tr>\n",
       "      <th>Ausstattung</th>\n",
       "      <td>0.800918</td>\n",
       "      <td>0.777417</td>\n",
       "      <td>0.774485</td>\n",
       "      <td>1.000000</td>\n",
       "    </tr>\n",
       "  </tbody>\n",
       "</table>\n",
       "</div>"
      ],
      "text/plain": [
       "             Qualität  Behandlung  Verwaltung  Ausstattung\n",
       "Qualität     1.000000    0.885012    0.790229     0.800918\n",
       "Behandlung   0.885012    1.000000    0.758685     0.777417\n",
       "Verwaltung   0.790229    0.758685    1.000000     0.774485\n",
       "Ausstattung  0.800918    0.777417    0.774485     1.000000"
      ]
     },
     "execution_count": 28,
     "metadata": {},
     "output_type": "execute_result"
    }
   ],
   "source": [
    "df[['Qualität','Behandlung', 'Verwaltung', 'Ausstattung']].corr()  "
   ]
  },
  {
   "cell_type": "code",
   "execution_count": 29,
   "metadata": {},
   "outputs": [
    {
     "name": "stderr",
     "output_type": "stream",
     "text": [
      "/usr/local/anaconda3/lib/python3.8/site-packages/seaborn/distributions.py:2551: FutureWarning: `distplot` is a deprecated function and will be removed in a future version. Please adapt your code to use either `displot` (a figure-level function with similar flexibility) or `histplot` (an axes-level function for histograms).\n",
      "  warnings.warn(msg, FutureWarning)\n"
     ]
    },
    {
     "data": {
      "text/plain": [
       "<AxesSubplot:xlabel='positive', ylabel='Density'>"
      ]
     },
     "execution_count": 29,
     "metadata": {},
     "output_type": "execute_result"
    },
    {
     "data": {
      "image/png": "[encoded data removed]",
      "text/plain": [
       "<Figure size 432x288 with 1 Axes>"
      ]
     },
     "metadata": {
      "needs_background": "light"
     },
     "output_type": "display_data"
    }
   ],
   "source": [
    "sns.distplot(df[\"positive\"])"
   ]
  },
  {
   "cell_type": "code",
   "execution_count": 30,
   "metadata": {},
   "outputs": [
    {
     "name": "stderr",
     "output_type": "stream",
     "text": [
      "/usr/local/anaconda3/lib/python3.8/site-packages/seaborn/distributions.py:2551: FutureWarning: `distplot` is a deprecated function and will be removed in a future version. Please adapt your code to use either `displot` (a figure-level function with similar flexibility) or `histplot` (an axes-level function for histograms).\n",
      "  warnings.warn(msg, FutureWarning)\n"
     ]
    },
    {
     "data": {
      "text/plain": [
       "<AxesSubplot:xlabel='Polaritiy', ylabel='Density'>"
      ]
     },
     "execution_count": 30,
     "metadata": {},
     "output_type": "execute_result"
    },
    {
     "data": {
      "image/png": "[encoded data removed]",
      "text/plain": [
       "<Figure size 1152x432 with 1 Axes>"
      ]
     },
     "metadata": {
      "needs_background": "light"
     },
     "output_type": "display_data"
    }
   ],
   "source": [
    "plt.figure(figsize=(16, 6))\n",
    "sns.distplot(df[\"Polaritiy\"])"
   ]
  },
  {
   "cell_type": "code",
   "execution_count": 31,
   "metadata": {},
   "outputs": [
    {
     "data": {
      "text/plain": [
       "<AxesSubplot:xlabel='Polaritiy', ylabel='Density'>"
      ]
     },
     "execution_count": 31,
     "metadata": {},
     "output_type": "execute_result"
    },
    {
     "data": {
      "image/png": "[encoded data removed]",
      "text/plain": [
       "<Figure size 1152x432 with 1 Axes>"
      ]
     },
     "metadata": {
      "needs_background": "light"
     },
     "output_type": "display_data"
    }
   ],
   "source": [
    "plt.figure(figsize=(16, 6))\n",
    "sns.kdeplot(df[\"Polaritiy\"])"
   ]
  },
  {
   "cell_type": "code",
   "execution_count": 32,
   "metadata": {},
   "outputs": [
    {
     "data": {
      "text/plain": [
       "<AxesSubplot:xlabel='Polaritiy', ylabel='Count'>"
      ]
     },
     "execution_count": 32,
     "metadata": {},
     "output_type": "execute_result"
    },
    {
     "data": {
      "image/png": "[encoded data removed]",
      "text/plain": [
       "<Figure size 1152x432 with 1 Axes>"
      ]
     },
     "metadata": {
      "needs_background": "light"
     },
     "output_type": "display_data"
    }
   ],
   "source": [
    "plt.figure(figsize=(16, 6))\n",
    "sns.histplot(df[\"Polaritiy\"])"
   ]
  },
  {
   "cell_type": "code",
   "execution_count": 33,
   "metadata": {},
   "outputs": [
    {
     "data": {
      "text/plain": [
       "<AxesSubplot:xlabel='Subjectivity', ylabel='Count'>"
      ]
     },
     "execution_count": 33,
     "metadata": {},
     "output_type": "execute_result"
    },
    {
     "data": {
      "image/png": "[encoded data removed]",
      "text/plain": [
       "<Figure size 1152x432 with 1 Axes>"
      ]
     },
     "metadata": {
      "needs_background": "light"
     },
     "output_type": "display_data"
    }
   ],
   "source": [
    "plt.figure(figsize=(16, 6))\n",
    "sns.histplot(df[\"Subjectivity\"])"
   ]
  },
  {
   "cell_type": "code",
   "execution_count": 34,
   "metadata": {
    "scrolled": false
   },
   "outputs": [
    {
     "data": {
      "text/plain": [
       "(1284, 16)"
      ]
     },
     "execution_count": 34,
     "metadata": {},
     "output_type": "execute_result"
    }
   ],
   "source": [
    "dff=df[df[\"Polaritiy\"]>=0.1]\n",
    "dff.shape"
   ]
  },
  {
   "cell_type": "code",
   "execution_count": 35,
   "metadata": {},
   "outputs": [
    {
     "data": {
      "text/plain": [
       "(1229, 16)"
      ]
     },
     "execution_count": 35,
     "metadata": {},
     "output_type": "execute_result"
    }
   ],
   "source": [
    "dff=df[df[\"Gesamt\"]>=50]\n",
    "dff.shape"
   ]
  },
  {
   "cell_type": "code",
   "execution_count": 36,
   "metadata": {},
   "outputs": [
    {
     "data": {
      "text/plain": [
       "<AxesSubplot:xlabel='Polaritiy', ylabel='Count'>"
      ]
     },
     "execution_count": 36,
     "metadata": {},
     "output_type": "execute_result"
    },
    {
     "data": {
      "image/png": "[encoded data removed]",
      "text/plain": [
       "<Figure size 720x432 with 1 Axes>"
      ]
     },
     "metadata": {
      "needs_background": "light"
     },
     "output_type": "display_data"
    }
   ],
   "source": [
    "plt.figure(figsize=(10, 6))\n",
    "sns.histplot(df[\"Polaritiy\"],bins=2)"
   ]
  },
  {
   "cell_type": "code",
   "execution_count": 37,
   "metadata": {},
   "outputs": [
    {
     "data": {
      "text/plain": [
       "<AxesSubplot:xlabel='Gesamt', ylabel='Count'>"
      ]
     },
     "execution_count": 37,
     "metadata": {},
     "output_type": "execute_result"
    },
    {
     "data": {
      "image/png": "[encoded data removed]",
      "text/plain": [
       "<Figure size 720x432 with 1 Axes>"
      ]
     },
     "metadata": {
      "needs_background": "light"
     },
     "output_type": "display_data"
    }
   ],
   "source": [
    "plt.figure(figsize=(10, 6))\n",
    "sns.histplot(df[\"Gesamt\"],bins=2)"
   ]
  },
  {
   "cell_type": "code",
   "execution_count": 38,
   "metadata": {},
   "outputs": [
    {
     "data": {
      "text/plain": [
       "<AxesSubplot:xlabel='Subjectivity', ylabel='Count'>"
      ]
     },
     "execution_count": 38,
     "metadata": {},
     "output_type": "execute_result"
    },
    {
     "data": {
      "image/png": "[encoded data removed]",
      "text/plain": [
       "<Figure size 432x288 with 1 Axes>"
      ]
     },
     "metadata": {
      "needs_background": "light"
     },
     "output_type": "display_data"
    }
   ],
   "source": [
    "sns.histplot(df[\"Subjectivity\"],bins=2)"
   ]
  },
  {
   "cell_type": "code",
   "execution_count": 39,
   "metadata": {},
   "outputs": [
    {
     "data": {
      "text/plain": [
       "<AxesSubplot:xlabel='Gesamt', ylabel='Count'>"
      ]
     },
     "execution_count": 39,
     "metadata": {},
     "output_type": "execute_result"
    },
    {
     "data": {
      "image/png": "[encoded data removed]",
      "text/plain": [
       "<Figure size 1152x432 with 1 Axes>"
      ]
     },
     "metadata": {
      "needs_background": "light"
     },
     "output_type": "display_data"
    }
   ],
   "source": [
    "plt.figure(figsize=(16, 6))\n",
    "sns.histplot(df[\"Gesamt\"])"
   ]
  },
  {
   "cell_type": "code",
   "execution_count": 40,
   "metadata": {},
   "outputs": [
    {
     "data": {
      "text/plain": [
       "<AxesSubplot:xlabel='Qualität', ylabel='Density'>"
      ]
     },
     "execution_count": 40,
     "metadata": {},
     "output_type": "execute_result"
    },
    {
     "data": {
      "image/png": "[encoded data removed]",
      "text/plain": [
       "<Figure size 432x288 with 1 Axes>"
      ]
     },
     "metadata": {
      "needs_background": "light"
     },
     "output_type": "display_data"
    }
   ],
   "source": [
    "sns.kdeplot(df[\"Qualität\"])"
   ]
  },
  {
   "cell_type": "code",
   "execution_count": 41,
   "metadata": {},
   "outputs": [
    {
     "data": {
      "text/plain": [
       "<AxesSubplot:xlabel='Qualität', ylabel='Count'>"
      ]
     },
     "execution_count": 41,
     "metadata": {},
     "output_type": "execute_result"
    },
    {
     "data": {
      "image/png": "[encoded data removed]",
      "text/plain": [
       "<Figure size 432x288 with 1 Axes>"
      ]
     },
     "metadata": {
      "needs_background": "light"
     },
     "output_type": "display_data"
    }
   ],
   "source": [
    "sns.histplot(df[\"Qualität\"])"
   ]
  },
  {
   "cell_type": "code",
   "execution_count": 42,
   "metadata": {},
   "outputs": [
    {
     "data": {
      "text/plain": [
       "<AxesSubplot:xlabel='Behandlung', ylabel='Density'>"
      ]
     },
     "execution_count": 42,
     "metadata": {},
     "output_type": "execute_result"
    },
    {
     "data": {
      "image/png": "[encoded data removed]",
      "text/plain": [
       "<Figure size 432x288 with 1 Axes>"
      ]
     },
     "metadata": {
      "needs_background": "light"
     },
     "output_type": "display_data"
    }
   ],
   "source": [
    "sns.kdeplot(df[\"Behandlung\"])"
   ]
  },
  {
   "cell_type": "code",
   "execution_count": 43,
   "metadata": {},
   "outputs": [
    {
     "data": {
      "text/plain": [
       "<AxesSubplot:xlabel='Verwaltung', ylabel='Density'>"
      ]
     },
     "execution_count": 43,
     "metadata": {},
     "output_type": "execute_result"
    },
    {
     "data": {
      "image/png": "[encoded data removed]",
      "text/plain": [
       "<Figure size 432x288 with 1 Axes>"
      ]
     },
     "metadata": {
      "needs_background": "light"
     },
     "output_type": "display_data"
    }
   ],
   "source": [
    "sns.kdeplot(df[\"Verwaltung\"])"
   ]
  },
  {
   "cell_type": "code",
   "execution_count": 44,
   "metadata": {},
   "outputs": [
    {
     "data": {
      "text/plain": [
       "<AxesSubplot:xlabel='Ausstattung', ylabel='Density'>"
      ]
     },
     "execution_count": 44,
     "metadata": {},
     "output_type": "execute_result"
    },
    {
     "data": {
      "image/png": "[encoded data removed]",
      "text/plain": [
       "<Figure size 432x288 with 1 Axes>"
      ]
     },
     "metadata": {
      "needs_background": "light"
     },
     "output_type": "display_data"
    }
   ],
   "source": [
    "sns.kdeplot(df[\"Ausstattung\"])"
   ]
  },
  {
   "cell_type": "code",
   "execution_count": 45,
   "metadata": {},
   "outputs": [
    {
     "data": {
      "text/plain": [
       "<AxesSubplot:xlabel='Gesamt', ylabel='Density'>"
      ]
     },
     "execution_count": 45,
     "metadata": {},
     "output_type": "execute_result"
    },
    {
     "data": {
      "image/png": "[encoded data removed]",
      "text/plain": [
       "<Figure size 432x288 with 1 Axes>"
      ]
     },
     "metadata": {
      "needs_background": "light"
     },
     "output_type": "display_data"
    }
   ],
   "source": [
    "sns.kdeplot(df[\"Gesamt\"])"
   ]
  },
  {
   "cell_type": "code",
   "execution_count": 46,
   "metadata": {},
   "outputs": [
    {
     "data": {
      "text/plain": [
       "<AxesSubplot:xlabel='Polaritiy', ylabel='Count'>"
      ]
     },
     "execution_count": 46,
     "metadata": {},
     "output_type": "execute_result"
    },
    {
     "data": {
      "image/png": "[encoded data removed]",
      "text/plain": [
       "<Figure size 1152x432 with 1 Axes>"
      ]
     },
     "metadata": {
      "needs_background": "light"
     },
     "output_type": "display_data"
    }
   ],
   "source": [
    "plt.figure(figsize=(16, 6))\n",
    "sns.histplot(df[\"Polaritiy\"])"
   ]
  },
  {
   "cell_type": "code",
   "execution_count": 47,
   "metadata": {},
   "outputs": [
    {
     "data": {
      "text/plain": [
       "<AxesSubplot:xlabel='Gesamt', ylabel='Count'>"
      ]
     },
     "execution_count": 47,
     "metadata": {},
     "output_type": "execute_result"
    },
    {
     "data": {
      "image/png": "[encoded data removed]",
      "text/plain": [
       "<Figure size 1152x432 with 1 Axes>"
      ]
     },
     "metadata": {
      "needs_background": "light"
     },
     "output_type": "display_data"
    }
   ],
   "source": [
    "plt.figure(figsize=(16, 6))\n",
    "sns.histplot(df[\"Gesamt\"])"
   ]
  },
  {
   "cell_type": "code",
   "execution_count": 48,
   "metadata": {},
   "outputs": [
    {
     "name": "stderr",
     "output_type": "stream",
     "text": [
      "/usr/local/anaconda3/lib/python3.8/site-packages/seaborn/distributions.py:2551: FutureWarning: `distplot` is a deprecated function and will be removed in a future version. Please adapt your code to use either `displot` (a figure-level function with similar flexibility) or `histplot` (an axes-level function for histograms).\n",
      "  warnings.warn(msg, FutureWarning)\n"
     ]
    },
    {
     "data": {
      "text/plain": [
       "<AxesSubplot:xlabel='Gesamt', ylabel='Density'>"
      ]
     },
     "execution_count": 48,
     "metadata": {},
     "output_type": "execute_result"
    },
    {
     "data": {
      "image/png": "[encoded data removed]",
      "text/plain": [
       "<Figure size 1152x432 with 1 Axes>"
      ]
     },
     "metadata": {
      "needs_background": "light"
     },
     "output_type": "display_data"
    }
   ],
   "source": [
    "plt.figure(figsize=(16, 6))\n",
    "sns.distplot(df[\"Gesamt\"])"
   ]
  },
  {
   "cell_type": "code",
   "execution_count": 49,
   "metadata": {},
   "outputs": [
    {
     "data": {
      "text/plain": [
       "Index(['Name der Klinik', 'Titel', 'Datum', 'Fachbereich', 'Erfahrungsbericht',\n",
       "       'Polaritiy', 'Subjectivity', 'year', 'month', 'day', 'Gesamt',\n",
       "       'Qualität', 'Behandlung', 'Verwaltung', 'Ausstattung', 'positive'],\n",
       "      dtype='object')"
      ]
     },
     "execution_count": 49,
     "metadata": {},
     "output_type": "execute_result"
    }
   ],
   "source": [
    "df.columns"
   ]
  },
  {
   "cell_type": "code",
   "execution_count": 50,
   "metadata": {},
   "outputs": [
    {
     "data": {
      "text/html": [
       "<div>\n",
       "<style scoped>\n",
       "    .dataframe tbody tr th:only-of-type {\n",
       "        vertical-align: middle;\n",
       "    }\n",
       "\n",
       "    .dataframe tbody tr th {\n",
       "        vertical-align: top;\n",
       "    }\n",
       "\n",
       "    .dataframe thead th {\n",
       "        text-align: right;\n",
       "    }\n",
       "</style>\n",
       "<table border=\"1\" class=\"dataframe\">\n",
       "  <thead>\n",
       "    <tr style=\"text-align: right;\">\n",
       "      <th></th>\n",
       "      <th>Polaritiy</th>\n",
       "      <th>Gesamt</th>\n",
       "      <th>positive</th>\n",
       "    </tr>\n",
       "  </thead>\n",
       "  <tbody>\n",
       "    <tr>\n",
       "      <th>count</th>\n",
       "      <td>2058.000000</td>\n",
       "      <td>2058.000000</td>\n",
       "      <td>2058.000000</td>\n",
       "    </tr>\n",
       "    <tr>\n",
       "      <th>mean</th>\n",
       "      <td>0.244731</td>\n",
       "      <td>58.515549</td>\n",
       "      <td>0.758989</td>\n",
       "    </tr>\n",
       "    <tr>\n",
       "      <th>std</th>\n",
       "      <td>0.395254</td>\n",
       "      <td>44.886991</td>\n",
       "      <td>0.427801</td>\n",
       "    </tr>\n",
       "    <tr>\n",
       "      <th>min</th>\n",
       "      <td>-1.000000</td>\n",
       "      <td>0.000000</td>\n",
       "      <td>0.000000</td>\n",
       "    </tr>\n",
       "    <tr>\n",
       "      <th>25%</th>\n",
       "      <td>0.000000</td>\n",
       "      <td>0.000000</td>\n",
       "      <td>1.000000</td>\n",
       "    </tr>\n",
       "    <tr>\n",
       "      <th>50%</th>\n",
       "      <td>0.221570</td>\n",
       "      <td>67.000000</td>\n",
       "      <td>1.000000</td>\n",
       "    </tr>\n",
       "    <tr>\n",
       "      <th>75%</th>\n",
       "      <td>0.500000</td>\n",
       "      <td>100.000000</td>\n",
       "      <td>1.000000</td>\n",
       "    </tr>\n",
       "    <tr>\n",
       "      <th>max</th>\n",
       "      <td>1.000000</td>\n",
       "      <td>100.000000</td>\n",
       "      <td>1.000000</td>\n",
       "    </tr>\n",
       "  </tbody>\n",
       "</table>\n",
       "</div>"
      ],
      "text/plain": [
       "         Polaritiy       Gesamt     positive\n",
       "count  2058.000000  2058.000000  2058.000000\n",
       "mean      0.244731    58.515549     0.758989\n",
       "std       0.395254    44.886991     0.427801\n",
       "min      -1.000000     0.000000     0.000000\n",
       "25%       0.000000     0.000000     1.000000\n",
       "50%       0.221570    67.000000     1.000000\n",
       "75%       0.500000   100.000000     1.000000\n",
       "max       1.000000   100.000000     1.000000"
      ]
     },
     "execution_count": 50,
     "metadata": {},
     "output_type": "execute_result"
    }
   ],
   "source": [
    "df[['Polaritiy','Gesamt','positive']].describe()"
   ]
  },
  {
   "cell_type": "code",
   "execution_count": 51,
   "metadata": {},
   "outputs": [
    {
     "data": {
      "text/html": [
       "<div>\n",
       "<style scoped>\n",
       "    .dataframe tbody tr th:only-of-type {\n",
       "        vertical-align: middle;\n",
       "    }\n",
       "\n",
       "    .dataframe tbody tr th {\n",
       "        vertical-align: top;\n",
       "    }\n",
       "\n",
       "    .dataframe thead th {\n",
       "        text-align: right;\n",
       "    }\n",
       "</style>\n",
       "<table border=\"1\" class=\"dataframe\">\n",
       "  <thead>\n",
       "    <tr style=\"text-align: right;\">\n",
       "      <th></th>\n",
       "      <th>Name der Klinik</th>\n",
       "      <th>Fachbereich</th>\n",
       "      <th>Erfahrungsbericht</th>\n",
       "    </tr>\n",
       "  </thead>\n",
       "  <tbody>\n",
       "    <tr>\n",
       "      <th>count</th>\n",
       "      <td>2058</td>\n",
       "      <td>2058</td>\n",
       "      <td>2058</td>\n",
       "    </tr>\n",
       "    <tr>\n",
       "      <th>unique</th>\n",
       "      <td>17</td>\n",
       "      <td>35</td>\n",
       "      <td>2058</td>\n",
       "    </tr>\n",
       "    <tr>\n",
       "      <th>top</th>\n",
       "      <td>DIAKOVERE Henriettenstift</td>\n",
       "      <td>Orthopädie</td>\n",
       "      <td>Meine Frau wurde im August 2009 an einem Kramp...</td>\n",
       "    </tr>\n",
       "    <tr>\n",
       "      <th>freq</th>\n",
       "      <td>241</td>\n",
       "      <td>269</td>\n",
       "      <td>1</td>\n",
       "    </tr>\n",
       "  </tbody>\n",
       "</table>\n",
       "</div>"
      ],
      "text/plain": [
       "                  Name der Klinik Fachbereich  \\\n",
       "count                        2058        2058   \n",
       "unique                         17          35   \n",
       "top     DIAKOVERE Henriettenstift  Orthopädie   \n",
       "freq                          241         269   \n",
       "\n",
       "                                        Erfahrungsbericht  \n",
       "count                                                2058  \n",
       "unique                                               2058  \n",
       "top     Meine Frau wurde im August 2009 an einem Kramp...  \n",
       "freq                                                    1  "
      ]
     },
     "execution_count": 51,
     "metadata": {},
     "output_type": "execute_result"
    }
   ],
   "source": [
    "df[[\"Name der Klinik\",\"Fachbereich\",\"Erfahrungsbericht\"]].describe(include=['object'])"
   ]
  },
  {
   "cell_type": "code",
   "execution_count": 52,
   "metadata": {},
   "outputs": [
    {
     "data": {
      "text/html": [
       "<div>\n",
       "<style scoped>\n",
       "    .dataframe tbody tr th:only-of-type {\n",
       "        vertical-align: middle;\n",
       "    }\n",
       "\n",
       "    .dataframe tbody tr th {\n",
       "        vertical-align: top;\n",
       "    }\n",
       "\n",
       "    .dataframe thead th {\n",
       "        text-align: right;\n",
       "    }\n",
       "</style>\n",
       "<table border=\"1\" class=\"dataframe\">\n",
       "  <thead>\n",
       "    <tr style=\"text-align: right;\">\n",
       "      <th></th>\n",
       "      <th>Gesamt</th>\n",
       "    </tr>\n",
       "  </thead>\n",
       "  <tbody>\n",
       "    <tr>\n",
       "      <th>100.0</th>\n",
       "      <td>999</td>\n",
       "    </tr>\n",
       "    <tr>\n",
       "      <th>0.0</th>\n",
       "      <td>674</td>\n",
       "    </tr>\n",
       "    <tr>\n",
       "      <th>67.0</th>\n",
       "      <td>230</td>\n",
       "    </tr>\n",
       "    <tr>\n",
       "      <th>33.0</th>\n",
       "      <td>155</td>\n",
       "    </tr>\n",
       "  </tbody>\n",
       "</table>\n",
       "</div>"
      ],
      "text/plain": [
       "       Gesamt\n",
       "100.0     999\n",
       "0.0       674\n",
       "67.0      230\n",
       "33.0      155"
      ]
     },
     "execution_count": 52,
     "metadata": {},
     "output_type": "execute_result"
    }
   ],
   "source": [
    "df['Gesamt'].value_counts().to_frame()"
   ]
  },
  {
   "cell_type": "code",
   "execution_count": null,
   "metadata": {},
   "outputs": [],
   "source": []
  },
  {
   "cell_type": "markdown",
   "metadata": {},
   "source": [
    "End..."
   ]
  }
 ],
 "metadata": {
  "kernelspec": {
   "display_name": "Python 3",
   "language": "python",
   "name": "python3"
  },
  "language_info": {
   "codemirror_mode": {
    "name": "ipython",
    "version": 3
   },
   "file_extension": ".py",
   "mimetype": "text/x-python",
   "name": "python",
   "nbconvert_exporter": "python",
   "pygments_lexer": "ipython3",
   "version": "3.8.5"
  }
 },
 "nbformat": 4,
 "nbformat_minor": 4
}
